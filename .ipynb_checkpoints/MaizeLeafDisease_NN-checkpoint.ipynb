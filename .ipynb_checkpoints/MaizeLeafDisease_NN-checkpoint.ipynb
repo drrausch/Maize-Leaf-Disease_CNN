{
 "cells": [
  {
   "cell_type": "code",
   "execution_count": 1,
   "metadata": {},
   "outputs": [],
   "source": [
    "import random\n",
    "import tensorflow as tf\n",
    "from tensorflow import keras\n",
    "from keras.models import Sequential\n",
    "from keras.layers import Dense\n",
    "from keras import models, layers\n",
    "import numpy as np \n",
    "import pandas as pd\n",
    "import matplotlib.pyplot as plt\n",
    "from PIL import Image\n",
    "import glob\n",
    "import os, os.path, shutil\n",
    "from keras.preprocessing.image import img_to_array, ImageDataGenerator, array_to_img, load_img\n"
   ]
  },
  {
   "cell_type": "code",
   "execution_count": 2,
   "metadata": {},
   "outputs": [
    {
     "data": {
      "text/plain": [
       "(371, 788, 3)"
      ]
     },
     "execution_count": 2,
     "metadata": {},
     "output_type": "execute_result"
    }
   ],
   "source": [
    "#open first image as a test \n",
    "im = Image.open('data/Blight/Corn_Blight (1).jpg')\n",
    "arr = np.array(im)\n",
    "arr.shape"
   ]
  },
  {
   "cell_type": "code",
   "execution_count": 3,
   "metadata": {},
   "outputs": [],
   "source": [
    "#prep for creating directories \n",
    "blight_dir = 'data/Blight/'\n",
    "gray_dir = 'data/Gray_Leaf_Spot'\n",
    "rust_dir = 'data/Common_Rust/'\n",
    "healthy_dir = 'data/Healthy/'\n",
    "new_dir = 'split/'"
   ]
  },
  {
   "cell_type": "code",
   "execution_count": 4,
   "metadata": {},
   "outputs": [],
   "source": [
    "#grab image names for each type\n",
    "imgs_blight = [file for file in os.listdir(blight_dir)]\n",
    "imgs_gray = [file for file in os.listdir(gray_dir)]\n",
    "imgs_rust = [file for file in os.listdir(rust_dir)]\n",
    "imgs_healthy = [file for file in os.listdir(healthy_dir)]"
   ]
  },
  {
   "cell_type": "code",
   "execution_count": 5,
   "metadata": {},
   "outputs": [
    {
     "data": {
      "text/plain": [
       "['Corn_Blight (1).jpg',\n",
       " 'Corn_Blight (1146).jpg',\n",
       " 'Corn_Blight (1147).jpg',\n",
       " 'Corn_Blight (1148).jpg',\n",
       " 'Corn_Blight (1149).jpg']"
      ]
     },
     "execution_count": 5,
     "metadata": {},
     "output_type": "execute_result"
    }
   ],
   "source": [
    "imgs_blight[:5]"
   ]
  },
  {
   "cell_type": "code",
   "execution_count": 6,
   "metadata": {},
   "outputs": [
    {
     "name": "stdout",
     "output_type": "stream",
     "text": [
      "# Blight:  1146\n",
      "# Gray:  574\n",
      "# Rust:  1306\n",
      "# Healthy:  1162\n"
     ]
    }
   ],
   "source": [
    "#Check to ensure all images are included\n",
    "print('# Blight: ', len(imgs_blight))\n",
    "print('# Gray: ', len(imgs_gray))\n",
    "print('# Rust: ', len(imgs_rust))\n",
    "print('# Healthy: ', len(imgs_healthy))"
   ]
  },
  {
   "cell_type": "code",
   "execution_count": 7,
   "metadata": {},
   "outputs": [],
   "source": [
    "#os.mkdir(new_dir)"
   ]
  },
  {
   "cell_type": "code",
   "execution_count": 8,
   "metadata": {},
   "outputs": [],
   "source": [
    "#create variables for new split directories for train/ test/ val\n",
    "train_folder = os.path.join(new_dir, 'train')\n",
    "train_blight = os.path.join(train_folder, 'blight')\n",
    "train_gray = os.path.join(train_folder, 'gray')\n",
    "train_rust = os.path.join(train_folder, 'rust')\n",
    "train_healthy = os.path.join(train_folder, 'healthy')\n",
    "\n",
    "test_folder = os.path.join(new_dir, 'test')\n",
    "test_blight = os.path.join(test_folder, 'blight')\n",
    "test_gray = os.path.join(test_folder, 'gray')\n",
    "test_rust = os.path.join(test_folder, 'rust')\n",
    "test_healthy = os.path.join(test_folder, 'healthy')\n",
    "\n",
    "val_folder = os.path.join(new_dir, 'validation')\n",
    "val_blight = os.path.join(val_folder, 'blight')\n",
    "val_gray = os.path.join(val_folder, 'gray')\n",
    "val_rust = os.path.join(val_folder, 'rust')\n",
    "val_healthy = os.path.join(val_folder, 'healthy')"
   ]
  },
  {
   "cell_type": "code",
   "execution_count": 9,
   "metadata": {},
   "outputs": [],
   "source": [
    "#create directories for splits\n",
    "#os.mkdir(train_folder)\n",
    "#os.mkdir(train_blight)\n",
    "#os.mkdir(train_gray)\n",
    "#os.mkdir(train_rust)\n",
    "#os.mkdir(train_healthy)\n",
    "\n",
    "#os.mkdir(test_folder)\n",
    "#os.mkdir(test_blight)\n",
    "#os.mkdir(test_gray)\n",
    "#os.mkdir(test_rust)\n",
    "#os.mkdir(test_healthy)\n",
    "\n",
    "#os.mkdir(val_folder)\n",
    "#os.mkdir(val_blight)\n",
    "#os.mkdir(val_gray)\n",
    "#os.mkdir(val_rust)\n",
    "#os.mkdir(val_healthy)"
   ]
  },
  {
   "cell_type": "code",
   "execution_count": 10,
   "metadata": {},
   "outputs": [
    {
     "name": "stdout",
     "output_type": "stream",
     "text": [
      "Number of images to train:\n",
      "# Blight:  848\n",
      "# Gray:  425\n",
      "# Rust:  966\n",
      "# Healthy:  860\n",
      "Number of images to test/val:\n",
      "# Blight:  149\n",
      "# Gray:  75\n",
      "# Rust:  170\n",
      "# Healthy:  151\n"
     ]
    }
   ],
   "source": [
    "#use a 74/13/13 split for train/ test/ val \n",
    "print('Number of images to train:')\n",
    "print('# Blight: ', round(len(imgs_blight)*.74))\n",
    "print('# Gray: ', round(len(imgs_gray)*.74))\n",
    "print('# Rust: ', round(len(imgs_rust)*.74))\n",
    "print('# Healthy: ', round(len(imgs_healthy)*.74))\n",
    "\n",
    "#use a 74/13/13 split for train/ test/ val \n",
    "print('Number of images to test/val:')\n",
    "print('# Blight: ', round(len(imgs_blight)*.13))\n",
    "print('# Gray: ', round(len(imgs_gray)*.13))\n",
    "print('# Rust: ', round(len(imgs_rust)*.13))\n",
    "print('# Healthy: ', round(len(imgs_healthy)*.13))"
   ]
  },
  {
   "cell_type": "code",
   "execution_count": 11,
   "metadata": {},
   "outputs": [],
   "source": [
    "# train blight\n",
    "# imgs = imgs_blight[:848]\n",
    "# for img in imgs:\n",
    "#     origin = os.path.join(blight_dir, img)\n",
    "#     destination = os.path.join(train_blight, img)\n",
    "#     shutil.copyfile(origin, destination)\n",
    "    \n",
    "# train grey\n",
    "# imgs = imgs_gray[:425]\n",
    "# for img in imgs:\n",
    "#     origin = os.path.join(gray_dir, img)\n",
    "#     destination = os.path.join(train_gray, img)\n",
    "#     shutil.copyfile(origin, destination)\n",
    "    \n",
    "# train rust\n",
    "# imgs = imgs_rust[:966]\n",
    "# for img in imgs:\n",
    "#     origin = os.path.join(rust_dir, img)\n",
    "#     destination = os.path.join(train_rust, img)\n",
    "#     shutil.copyfile(origin, destination)\n",
    "    \n",
    "# train healthy\n",
    "# imgs = imgs_healthy[:860]\n",
    "# for img in imgs:\n",
    "#     origin = os.path.join(healthy_dir, img)\n",
    "#     destination = os.path.join(train_healthy, img)\n",
    "#     shutil.copyfile(origin, destination)"
   ]
  },
  {
   "cell_type": "code",
   "execution_count": 12,
   "metadata": {},
   "outputs": [],
   "source": [
    "# test blight\n",
    "# imgs = imgs_blight[848:997]\n",
    "# for img in imgs:\n",
    "#     origin = os.path.join(blight_dir, img)\n",
    "#     destination = os.path.join(test_blight, img)\n",
    "#     shutil.copyfile(origin, destination)\n",
    "    \n",
    "# # test grey\n",
    "# imgs = imgs_gray[425:500]\n",
    "# for img in imgs:\n",
    "#     origin = os.path.join(gray_dir, img)\n",
    "#     destination = os.path.join(test_gray, img)\n",
    "#     shutil.copyfile(origin, destination)\n",
    "    \n",
    "# # test rust\n",
    "# imgs = imgs_rust[966:1136]\n",
    "# for img in imgs:\n",
    "#     origin = os.path.join(rust_dir, img)\n",
    "#     destination = os.path.join(test_rust, img)\n",
    "#     shutil.copyfile(origin, destination)\n",
    "    \n",
    "# # test healthy\n",
    "# imgs = imgs_healthy[860:1011]\n",
    "# for img in imgs:\n",
    "#     origin = os.path.join(healthy_dir, img)\n",
    "#     destination = os.path.join(test_healthy, img)\n",
    "#     shutil.copyfile(origin, destination)"
   ]
  },
  {
   "cell_type": "code",
   "execution_count": 13,
   "metadata": {},
   "outputs": [],
   "source": [
    "# # val blight\n",
    "# imgs = imgs_blight[997:]\n",
    "# for img in imgs:\n",
    "#     origin = os.path.join(blight_dir, img)\n",
    "#     destination = os.path.join(val_blight, img)\n",
    "#     shutil.copyfile(origin, destination)\n",
    "    \n",
    "# # val grey\n",
    "# imgs = imgs_gray[500:]\n",
    "# for img in imgs:\n",
    "#     origin = os.path.join(gray_dir, img)\n",
    "#     destination = os.path.join(val_gray, img)\n",
    "#     shutil.copyfile(origin, destination)\n",
    "    \n",
    "# # val rust\n",
    "# imgs = imgs_rust[1136:]\n",
    "# for img in imgs:\n",
    "#     origin = os.path.join(rust_dir, img)\n",
    "#     destination = os.path.join(val_rust, img)\n",
    "#     shutil.copyfile(origin, destination)\n",
    "    \n",
    "# # val healthy\n",
    "# imgs = imgs_healthy[1011:]\n",
    "# for img in imgs:\n",
    "#     origin = os.path.join(healthy_dir, img)\n",
    "#     destination = os.path.join(val_healthy, img)\n",
    "#     shutil.copyfile(origin, destination)"
   ]
  },
  {
   "cell_type": "code",
   "execution_count": 14,
   "metadata": {
    "scrolled": false
   },
   "outputs": [
    {
     "name": "stdout",
     "output_type": "stream",
     "text": [
      "Found 545 images belonging to 4 classes.\n",
      "Found 544 images belonging to 4 classes.\n",
      "Found 3099 images belonging to 4 classes.\n"
     ]
    }
   ],
   "source": [
    "#reshape all images\n",
    "test_batch = 545\n",
    "val_batch = 544\n",
    "train_batch = 3099\n",
    "\n",
    "# get all test images and reshape \n",
    "test_generator = ImageDataGenerator(rescale=1./255).flow_from_directory(test_folder, target_size=(64, 64),\n",
    "                                                                        batch_size = test_batch) \n",
    "\n",
    "# get all validation images and reshape \n",
    "val_generator = ImageDataGenerator(rescale=1./255).flow_from_directory(val_folder, target_size=(64, 64), \n",
    "                                                                      batch_size = val_batch)\n",
    "\n",
    "# get all train images and reshape \n",
    "train_generator = ImageDataGenerator(rescale=1./255).flow_from_directory(train_folder, target_size=(64, 64),\n",
    "                                                                        batch_size = train_batch)"
   ]
  },
  {
   "cell_type": "code",
   "execution_count": 15,
   "metadata": {},
   "outputs": [],
   "source": [
    "#create images/ labels\n",
    "train_images, train_labels = next(train_generator)\n",
    "test_images, test_labels = next(test_generator)\n",
    "val_images, val_labels = next(val_generator)"
   ]
  },
  {
   "cell_type": "code",
   "execution_count": 16,
   "metadata": {
    "scrolled": true
   },
   "outputs": [
    {
     "data": {
      "text/plain": [
       "3099"
      ]
     },
     "execution_count": 16,
     "metadata": {},
     "output_type": "execute_result"
    }
   ],
   "source": [
    "train_images.shape[0]"
   ]
  },
  {
   "cell_type": "code",
   "execution_count": 17,
   "metadata": {},
   "outputs": [
    {
     "name": "stdout",
     "output_type": "stream",
     "text": [
      "(3099, 12288)\n",
      "(545, 12288)\n",
      "(544, 12288)\n"
     ]
    }
   ],
   "source": [
    "train_img = train_images.reshape(train_images.shape[0], -1)\n",
    "test_img = test_images.reshape(test_images.shape[0], -1)\n",
    "val_img = val_images.reshape(val_images.shape[0], -1)\n",
    "\n",
    "#double check shape to make sure all the images are included\n",
    "print(train_img.shape)\n",
    "print(test_img.shape)\n",
    "print(val_img.shape)"
   ]
  },
  {
   "cell_type": "code",
   "execution_count": 18,
   "metadata": {},
   "outputs": [],
   "source": [
    "#create labels for all three splits\n",
    "train_y = np.reshape(train_labels[:,0], (3099,1))\n",
    "test_y = np.reshape(test_labels[:,0], (545,1))\n",
    "val_y = np.reshape(val_labels[:,0], (544,1))"
   ]
  },
  {
   "cell_type": "markdown",
   "metadata": {},
   "source": [
    "### Basic EDA"
   ]
  },
  {
   "cell_type": "code",
   "execution_count": 19,
   "metadata": {},
   "outputs": [
    {
     "data": {
      "text/plain": [
       "numpy.ndarray"
      ]
     },
     "execution_count": 19,
     "metadata": {},
     "output_type": "execute_result"
    }
   ],
   "source": [
    "type(train_img)"
   ]
  },
  {
   "cell_type": "code",
   "execution_count": 20,
   "metadata": {
    "scrolled": false
   },
   "outputs": [],
   "source": [
    "sample_image = train_img[5]\n",
    "sample_image\n",
    "sample_im = Image.fromarray(sample_image)\n",
    "if sample_im.mode != 'RGB':\n",
    "    sample_im = sample_im.convert('RGB')\n",
    "#display(sample_im)"
   ]
  },
  {
   "cell_type": "markdown",
   "metadata": {},
   "source": [
    "#### Interested in seeing various image sizes "
   ]
  },
  {
   "cell_type": "code",
   "execution_count": 21,
   "metadata": {
    "scrolled": false
   },
   "outputs": [
    {
     "data": {
      "text/plain": [
       "(64, 64, 3)"
      ]
     },
     "execution_count": 21,
     "metadata": {},
     "output_type": "execute_result"
    }
   ],
   "source": [
    "train_images[543].shape"
   ]
  },
  {
   "cell_type": "code",
   "execution_count": 22,
   "metadata": {},
   "outputs": [],
   "source": [
    "from dask import bag,  diagnostics "
   ]
  },
  {
   "cell_type": "code",
   "execution_count": 23,
   "metadata": {
    "scrolled": true
   },
   "outputs": [
    {
     "name": "stdout",
     "output_type": "stream",
     "text": [
      "[########################################] | 100% Completed |  5.7s\n"
     ]
    }
   ],
   "source": [
    "def get_dims(file):\n",
    "    im = Image.open(file)\n",
    "    arr = np.array(im)\n",
    "    h,w,d = arr.shape\n",
    "    return h,w\n",
    "\n",
    "# parallelize\n",
    "filepath = 'split/train/blight/'\n",
    "filelist = [filepath + f for f in os.listdir(filepath)]\n",
    "dimsbag = bag.from_sequence(filelist).map(get_dims)\n",
    "with diagnostics.ProgressBar():\n",
    "    dims = dimsbag.compute()"
   ]
  },
  {
   "cell_type": "code",
   "execution_count": 24,
   "metadata": {},
   "outputs": [
    {
     "data": {
      "text/plain": [
       "Text(0.5, 1.0, 'Blight Image Sizes (pixels)')"
      ]
     },
     "execution_count": 24,
     "metadata": {},
     "output_type": "execute_result"
    },
    {
     "data": {
      "image/png": "[encoded data removed]",
      "text/plain": [
       "<Figure size 432x288 with 1 Axes>"
      ]
     },
     "metadata": {
      "needs_background": "light"
     },
     "output_type": "display_data"
    }
   ],
   "source": [
    "dim_df = pd.DataFrame(dims, columns=['height', 'width'])\n",
    "sizes = dim_df.groupby(['height', 'width']).size().reset_index().rename(columns={0:'count'})\n",
    "sizes.plot.scatter(x='height', y='width');\n",
    "plt.title('Blight Image Sizes (pixels)')"
   ]
  },
  {
   "cell_type": "code",
   "execution_count": 55,
   "metadata": {},
   "outputs": [],
   "source": [
    "# Create a function to find average image\n",
    "def avg_img(array):\n",
    "    #ndarray to store values\n",
    "    w,h,c= array[0].shape\n",
    "    N=len(filelist)\n",
    "    sum_arr=np.zeros((w,h,c))\n",
    "  \n",
    "    for a in array:\n",
    "         #convert type to uint8 as PIL cannot use floats or (1,1,3) arrays for RBG\n",
    "        new = (a * 255).astype(np.uint8)\n",
    "        #find average of arrays\n",
    "        sum_arr= new + sum_arr\n",
    "        mean_arr = (sum_arr / len(array)).astype(np.uint8)\n",
    "    #convert to image from array\n",
    "    im = Image.fromarray(mean_arr)\n",
    "    return(im)"
   ]
  },
  {
   "cell_type": "code",
   "execution_count": 56,
   "metadata": {},
   "outputs": [
    {
     "data": {
      "image/png": "[encoded data removed]",
      "text/plain": [
       "<PIL.Image.Image image mode=RGB size=64x64 at 0x1CDA2E3F070>"
      ]
     },
     "execution_count": 56,
     "metadata": {},
     "output_type": "execute_result"
    }
   ],
   "source": [
    "avg_img(train_images)"
   ]
  },
  {
   "cell_type": "code",
   "execution_count": 57,
   "metadata": {
    "scrolled": true
   },
   "outputs": [
    {
     "data": {
      "image/png": "[encoded data removed]",
      "text/plain": [
       "<PIL.Image.Image image mode=RGB size=128x128 at 0x1CD9CF2DEB0>"
      ]
     },
     "execution_count": 57,
     "metadata": {},
     "output_type": "execute_result"
    }
   ],
   "source": [
    "healthy_names = glob.glob('split/train/healthy/*.JPG')\n",
    "x = np.array([np.array(Image.open(fname).resize((128,128))) for fname in healthy_names])\n",
    "avg_img(x)"
   ]
  },
  {
   "cell_type": "code",
   "execution_count": 69,
   "metadata": {
    "scrolled": true
   },
   "outputs": [],
   "source": [
    "blight_names = glob.glob('split/train/blight/*.JPG')\n",
    "rust_names = glob.glob('split/train/rust/*.JPG')"
   ]
  },
  {
   "cell_type": "code",
   "execution_count": 67,
   "metadata": {},
   "outputs": [
    {
     "data": {
      "text/plain": [
       "True"
      ]
     },
     "execution_count": 67,
     "metadata": {},
     "output_type": "execute_result"
    }
   ],
   "source": [
    "import cv2\n",
    " \n",
    "# Import all image files with the .jpg extension\n",
    "image_data = []\n",
    "for my_file in blight_names:\n",
    "    this_image = cv2.imread(my_file, 1)\n",
    "    this_image.resize(128,128)\n",
    "    image_data.append(this_image)\n",
    " \n",
    "# Calculate blended image\n",
    "dst = image_data[0]\n",
    "for i in range(len(image_data)):\n",
    "    if i == 0:\n",
    "        pass\n",
    "    else:\n",
    "        alpha = 1.0/(i + 1)\n",
    "        beta = 1.0 - alpha\n",
    "        dst = cv2.addWeighted(image_data[i], alpha, dst, beta, 0.0)\n",
    " \n",
    "cv2.imwrite('blight_avg.png', dst)"
   ]
  },
  {
   "cell_type": "code",
   "execution_count": 70,
   "metadata": {},
   "outputs": [
    {
     "data": {
      "text/plain": [
       "True"
      ]
     },
     "execution_count": 70,
     "metadata": {},
     "output_type": "execute_result"
    }
   ],
   "source": [
    "# Import all image files with the .jpg extension\n",
    "image_data = []\n",
    "for my_file in rust_names:\n",
    "    this_image = cv2.imread(my_file, 1)\n",
    "    this_image.resize(128,128)\n",
    "    image_data.append(this_image)\n",
    " \n",
    "# Calculate blended image\n",
    "dst = image_data[0]\n",
    "for i in range(len(image_data)):\n",
    "    if i == 0:\n",
    "        pass\n",
    "    else:\n",
    "        alpha = 1.0/(i + 1)\n",
    "        beta = 1.0 - alpha\n",
    "        dst = cv2.addWeighted(image_data[i], alpha, dst, beta, 0.0)\n",
    " \n",
    "cv2.imwrite('rust_avg.png', dst)"
   ]
  },
  {
   "cell_type": "code",
   "execution_count": null,
   "metadata": {},
   "outputs": [],
   "source": []
  },
  {
   "cell_type": "code",
   "execution_count": null,
   "metadata": {},
   "outputs": [],
   "source": []
  },
  {
   "cell_type": "code",
   "execution_count": null,
   "metadata": {},
   "outputs": [],
   "source": []
  },
  {
   "cell_type": "markdown",
   "metadata": {},
   "source": [
    "### Baseline Model - No Tuning"
   ]
  },
  {
   "cell_type": "code",
   "execution_count": 30,
   "metadata": {},
   "outputs": [],
   "source": [
    "#create a dense layer model as a baseline with 2 hidden layers\n",
    "np.random.seed(10)\n",
    "model = models.Sequential()\n",
    "model.add(layers.Dense(20, activation='relu', input_shape=(12288,)))\n",
    "model.add(layers.Dense(7, activation='relu'))\n",
    "model.add(layers.Dense(5, activation='relu'))\n",
    "model.add(layers.Dense(1, activation='sigmoid'))"
   ]
  },
  {
   "cell_type": "code",
   "execution_count": 31,
   "metadata": {},
   "outputs": [
    {
     "name": "stdout",
     "output_type": "stream",
     "text": [
      "Epoch 1/50\n",
      "69/69 [==============================] - 1s 11ms/step - loss: 0.5010 - accuracy: 0.7260 - val_loss: 0.4577 - val_accuracy: 0.7261\n",
      "Epoch 2/50\n",
      "69/69 [==============================] - 0s 6ms/step - loss: 0.4459 - accuracy: 0.7464 - val_loss: 0.4206 - val_accuracy: 0.7684\n",
      "Epoch 3/50\n",
      "69/69 [==============================] - 0s 7ms/step - loss: 0.4274 - accuracy: 0.7670 - val_loss: 0.4090 - val_accuracy: 0.8015\n",
      "Epoch 4/50\n",
      "69/69 [==============================] - 0s 6ms/step - loss: 0.4160 - accuracy: 0.7783 - val_loss: 0.5223 - val_accuracy: 0.7390\n",
      "Epoch 5/50\n",
      "69/69 [==============================] - 0s 7ms/step - loss: 0.4128 - accuracy: 0.7796 - val_loss: 0.4117 - val_accuracy: 0.8015\n",
      "Epoch 6/50\n",
      "69/69 [==============================] - 0s 7ms/step - loss: 0.4061 - accuracy: 0.7851 - val_loss: 0.4969 - val_accuracy: 0.6801\n",
      "Epoch 7/50\n",
      "69/69 [==============================] - 1s 9ms/step - loss: 0.3896 - accuracy: 0.7941 - val_loss: 0.3833 - val_accuracy: 0.8033\n",
      "Epoch 8/50\n",
      "69/69 [==============================] - 1s 7ms/step - loss: 0.3899 - accuracy: 0.7957 - val_loss: 0.3804 - val_accuracy: 0.8070\n",
      "Epoch 9/50\n",
      "69/69 [==============================] - 0s 7ms/step - loss: 0.3844 - accuracy: 0.7993 - val_loss: 0.3755 - val_accuracy: 0.8180\n",
      "Epoch 10/50\n",
      "69/69 [==============================] - 1s 9ms/step - loss: 0.3770 - accuracy: 0.8022 - val_loss: 0.3729 - val_accuracy: 0.8235\n",
      "Epoch 11/50\n",
      "69/69 [==============================] - 1s 9ms/step - loss: 0.3690 - accuracy: 0.8045 - val_loss: 0.3878 - val_accuracy: 0.7996\n",
      "Epoch 12/50\n",
      "69/69 [==============================] - 0s 7ms/step - loss: 0.3643 - accuracy: 0.8116 - val_loss: 0.3738 - val_accuracy: 0.8180\n",
      "Epoch 13/50\n",
      "69/69 [==============================] - 0s 7ms/step - loss: 0.3610 - accuracy: 0.8135 - val_loss: 0.3806 - val_accuracy: 0.8125\n",
      "Epoch 14/50\n",
      "69/69 [==============================] - 1s 7ms/step - loss: 0.3691 - accuracy: 0.8051 - val_loss: 0.3796 - val_accuracy: 0.8143\n",
      "Epoch 15/50\n",
      "69/69 [==============================] - 1s 13ms/step - loss: 0.3519 - accuracy: 0.8132 - val_loss: 0.4307 - val_accuracy: 0.7794\n",
      "Epoch 16/50\n",
      "69/69 [==============================] - 1s 11ms/step - loss: 0.3586 - accuracy: 0.8119 - val_loss: 0.3771 - val_accuracy: 0.8070\n",
      "Epoch 17/50\n",
      "69/69 [==============================] - 1s 11ms/step - loss: 0.3498 - accuracy: 0.8203 - val_loss: 0.3738 - val_accuracy: 0.8107\n",
      "Epoch 18/50\n",
      "69/69 [==============================] - 0s 7ms/step - loss: 0.3560 - accuracy: 0.8138 - val_loss: 0.3728 - val_accuracy: 0.8217\n",
      "Epoch 19/50\n",
      "69/69 [==============================] - 1s 10ms/step - loss: 0.3435 - accuracy: 0.8199 - val_loss: 0.3654 - val_accuracy: 0.8290\n",
      "Epoch 20/50\n",
      "69/69 [==============================] - 0s 7ms/step - loss: 0.3362 - accuracy: 0.8203 - val_loss: 0.4264 - val_accuracy: 0.7849\n",
      "Epoch 21/50\n",
      "69/69 [==============================] - 0s 6ms/step - loss: 0.3456 - accuracy: 0.8151 - val_loss: 0.3589 - val_accuracy: 0.8235\n",
      "Epoch 22/50\n",
      "69/69 [==============================] - 1s 8ms/step - loss: 0.3354 - accuracy: 0.8232 - val_loss: 0.3648 - val_accuracy: 0.8199\n",
      "Epoch 23/50\n",
      "69/69 [==============================] - 1s 13ms/step - loss: 0.3275 - accuracy: 0.8370 - val_loss: 0.3627 - val_accuracy: 0.8272\n",
      "Epoch 24/50\n",
      "69/69 [==============================] - 1s 13ms/step - loss: 0.3271 - accuracy: 0.8309 - val_loss: 0.3547 - val_accuracy: 0.8309\n",
      "Epoch 25/50\n",
      "69/69 [==============================] - 1s 10ms/step - loss: 0.3225 - accuracy: 0.8419 - val_loss: 0.4071 - val_accuracy: 0.8088\n",
      "Epoch 26/50\n",
      "69/69 [==============================] - 1s 10ms/step - loss: 0.3313 - accuracy: 0.8328 - val_loss: 0.3538 - val_accuracy: 0.8290\n",
      "Epoch 27/50\n",
      "69/69 [==============================] - 0s 7ms/step - loss: 0.3302 - accuracy: 0.8254 - val_loss: 0.3651 - val_accuracy: 0.8309\n",
      "Epoch 28/50\n",
      "69/69 [==============================] - 0s 7ms/step - loss: 0.3213 - accuracy: 0.8374 - val_loss: 0.3833 - val_accuracy: 0.8051\n",
      "Epoch 29/50\n",
      "69/69 [==============================] - 1s 8ms/step - loss: 0.3235 - accuracy: 0.8364 - val_loss: 0.3881 - val_accuracy: 0.8162\n",
      "Epoch 30/50\n",
      "69/69 [==============================] - 1s 11ms/step - loss: 0.3097 - accuracy: 0.8399 - val_loss: 0.4050 - val_accuracy: 0.7849\n",
      "Epoch 31/50\n",
      "69/69 [==============================] - 1s 11ms/step - loss: 0.2960 - accuracy: 0.8538 - val_loss: 0.3599 - val_accuracy: 0.8199\n",
      "Epoch 32/50\n",
      "69/69 [==============================] - 0s 6ms/step - loss: 0.3144 - accuracy: 0.8422 - val_loss: 0.4223 - val_accuracy: 0.7996\n",
      "Epoch 33/50\n",
      "69/69 [==============================] - 0s 6ms/step - loss: 0.3093 - accuracy: 0.8529 - val_loss: 0.3597 - val_accuracy: 0.8346\n",
      "Epoch 34/50\n",
      "69/69 [==============================] - 0s 7ms/step - loss: 0.3120 - accuracy: 0.8470 - val_loss: 0.3560 - val_accuracy: 0.8364\n",
      "Epoch 35/50\n",
      "69/69 [==============================] - 1s 11ms/step - loss: 0.3000 - accuracy: 0.8509 - val_loss: 0.4490 - val_accuracy: 0.7996\n",
      "Epoch 36/50\n",
      "69/69 [==============================] - 1s 11ms/step - loss: 0.3090 - accuracy: 0.8483 - val_loss: 0.3821 - val_accuracy: 0.7868\n",
      "Epoch 37/50\n",
      "69/69 [==============================] - 1s 8ms/step - loss: 0.3004 - accuracy: 0.8506 - val_loss: 0.3400 - val_accuracy: 0.8474\n",
      "Epoch 38/50\n",
      "69/69 [==============================] - 1s 8ms/step - loss: 0.2881 - accuracy: 0.8558 - val_loss: 0.3558 - val_accuracy: 0.8272\n",
      "Epoch 39/50\n",
      "69/69 [==============================] - 0s 7ms/step - loss: 0.2865 - accuracy: 0.8590 - val_loss: 0.3484 - val_accuracy: 0.8309\n",
      "Epoch 40/50\n",
      "69/69 [==============================] - 0s 6ms/step - loss: 0.2934 - accuracy: 0.8600 - val_loss: 0.3637 - val_accuracy: 0.8309\n",
      "Epoch 41/50\n",
      "69/69 [==============================] - 0s 6ms/step - loss: 0.2768 - accuracy: 0.8635 - val_loss: 0.3569 - val_accuracy: 0.8456\n",
      "Epoch 42/50\n",
      "69/69 [==============================] - 0s 6ms/step - loss: 0.2825 - accuracy: 0.8641 - val_loss: 0.3964 - val_accuracy: 0.7702\n",
      "Epoch 43/50\n",
      "69/69 [==============================] - 0s 6ms/step - loss: 0.2981 - accuracy: 0.8583 - val_loss: 0.3513 - val_accuracy: 0.8327\n",
      "Epoch 44/50\n",
      "69/69 [==============================] - 0s 6ms/step - loss: 0.2964 - accuracy: 0.8561 - val_loss: 0.3979 - val_accuracy: 0.8254\n",
      "Epoch 45/50\n",
      "69/69 [==============================] - 0s 6ms/step - loss: 0.2913 - accuracy: 0.8571 - val_loss: 0.3766 - val_accuracy: 0.8162\n",
      "Epoch 46/50\n",
      "69/69 [==============================] - 0s 6ms/step - loss: 0.3395 - accuracy: 0.8322 - val_loss: 0.3735 - val_accuracy: 0.8235\n",
      "Epoch 47/50\n",
      "69/69 [==============================] - 0s 6ms/step - loss: 0.2917 - accuracy: 0.8567 - val_loss: 0.3634 - val_accuracy: 0.8180\n",
      "Epoch 48/50\n",
      "69/69 [==============================] - 0s 7ms/step - loss: 0.2789 - accuracy: 0.8696 - val_loss: 0.4512 - val_accuracy: 0.7702\n",
      "Epoch 49/50\n",
      "69/69 [==============================] - 0s 6ms/step - loss: 0.2776 - accuracy: 0.8671 - val_loss: 0.3597 - val_accuracy: 0.8346\n",
      "Epoch 50/50\n",
      "69/69 [==============================] - 0s 6ms/step - loss: 0.2793 - accuracy: 0.8651 - val_loss: 0.3555 - val_accuracy: 0.8419\n"
     ]
    }
   ],
   "source": [
    "#choose metrics and fit the model on train data\n",
    "model.compile(optimizer='sgd', loss='binary_crossentropy', metrics=['accuracy'])\n",
    "\n",
    "history = model.fit(train_img,\n",
    "                    train_y,\n",
    "                    epochs=50,\n",
    "                    batch_size=45,\n",
    "                    validation_data=(val_img, val_y))"
   ]
  },
  {
   "cell_type": "code",
   "execution_count": 32,
   "metadata": {},
   "outputs": [
    {
     "data": {
      "image/png": "[encoded data removed]",
      "text/plain": [
       "<Figure size 432x288 with 1 Axes>"
      ]
     },
     "metadata": {
      "needs_background": "light"
     },
     "output_type": "display_data"
    },
    {
     "data": {
      "image/png": "[encoded data removed]",
      "text/plain": [
       "<Figure size 432x288 with 1 Axes>"
      ]
     },
     "metadata": {
      "needs_background": "light"
     },
     "output_type": "display_data"
    }
   ],
   "source": [
    "def viz_train_res(results):\n",
    "    history = results.history\n",
    "    plt.figure()\n",
    "    plt.plot(history['val_loss'])\n",
    "    plt.plot(history['loss'])\n",
    "    plt.legend(['val_loss', 'loss'])\n",
    "    plt.title('Loss')\n",
    "    plt.xlabel('Epochs')\n",
    "    plt.ylabel('Loss')\n",
    "    plt.show()\n",
    "    \n",
    "    plt.figure()\n",
    "    plt.plot(history['val_accuracy'])\n",
    "    plt.plot(history['accuracy'])\n",
    "    plt.legend(['val_accuracy', 'accuracy'])\n",
    "    plt.title('Accuracy')\n",
    "    plt.xlabel('Epochs')\n",
    "    plt.ylabel('Accuracy')\n",
    "    plt.show()\n",
    "    \n",
    "viz_train_res(history)"
   ]
  },
  {
   "cell_type": "markdown",
   "metadata": {},
   "source": [
    "### First CNN"
   ]
  },
  {
   "cell_type": "code",
   "execution_count": 33,
   "metadata": {},
   "outputs": [],
   "source": [
    "input_shape = (64, 64, 3)\n",
    "x = tf.random.normal(input_shape)\n",
    "\n",
    "model = models.Sequential()\n",
    "model.add(layers.Conv2D(32, (3, 3), activation='relu',\n",
    "                        input_shape=(64 ,64,  3)))\n",
    "model.add(layers.MaxPooling2D((2, 2)))\n",
    "\n",
    "model.add(layers.Conv2D(64, (5,5), activation='relu'))\n",
    "model.add(layers.MaxPooling2D((2, 2)))\n",
    "\n",
    "model.add(layers.Flatten())\n",
    "model.add(layers.Dense(64, activation='relu'))\n",
    "model.add(layers.Dense(1, activation='sigmoid'))\n",
    "\n",
    "model.compile(loss='binary_crossentropy', optimizer='sgd', metrics='accuracy')"
   ]
  },
  {
   "cell_type": "code",
   "execution_count": 34,
   "metadata": {
    "scrolled": true
   },
   "outputs": [
    {
     "name": "stdout",
     "output_type": "stream",
     "text": [
      "Epoch 1/50\n",
      "97/97 [==============================] - 15s 155ms/step - loss: 0.5735 - accuracy: 0.7244 - val_loss: 0.5630 - val_accuracy: 0.7261\n",
      "Epoch 2/50\n",
      "97/97 [==============================] - 15s 153ms/step - loss: 0.5422 - accuracy: 0.7267 - val_loss: 0.5283 - val_accuracy: 0.7279\n",
      "Epoch 3/50\n",
      "97/97 [==============================] - 15s 153ms/step - loss: 0.5105 - accuracy: 0.7335 - val_loss: 0.5668 - val_accuracy: 0.7390\n",
      "Epoch 4/50\n",
      "97/97 [==============================] - 15s 152ms/step - loss: 0.4824 - accuracy: 0.7460 - val_loss: 0.4570 - val_accuracy: 0.7463\n",
      "Epoch 5/50\n",
      "97/97 [==============================] - 15s 151ms/step - loss: 0.4639 - accuracy: 0.7654 - val_loss: 0.5277 - val_accuracy: 0.7298\n",
      "Epoch 6/50\n",
      "97/97 [==============================] - 15s 152ms/step - loss: 0.4437 - accuracy: 0.7819 - val_loss: 0.4501 - val_accuracy: 0.7537\n",
      "Epoch 7/50\n",
      "97/97 [==============================] - 15s 152ms/step - loss: 0.4266 - accuracy: 0.7812 - val_loss: 0.4176 - val_accuracy: 0.7794\n",
      "Epoch 8/50\n",
      "97/97 [==============================] - 15s 154ms/step - loss: 0.4139 - accuracy: 0.7886 - val_loss: 0.6380 - val_accuracy: 0.7335\n",
      "Epoch 9/50\n",
      "97/97 [==============================] - 15s 153ms/step - loss: 0.3990 - accuracy: 0.8009 - val_loss: 0.3992 - val_accuracy: 0.7941\n",
      "Epoch 10/50\n",
      "97/97 [==============================] - 15s 154ms/step - loss: 0.3925 - accuracy: 0.8093 - val_loss: 0.3888 - val_accuracy: 0.8088\n",
      "Epoch 11/50\n",
      "97/97 [==============================] - 15s 152ms/step - loss: 0.3811 - accuracy: 0.8096 - val_loss: 0.3974 - val_accuracy: 0.7978\n",
      "Epoch 12/50\n",
      "97/97 [==============================] - 15s 153ms/step - loss: 0.3688 - accuracy: 0.8193 - val_loss: 0.3761 - val_accuracy: 0.8107\n",
      "Epoch 13/50\n",
      "97/97 [==============================] - 14s 147ms/step - loss: 0.3650 - accuracy: 0.8219 - val_loss: 0.3844 - val_accuracy: 0.8033\n",
      "Epoch 14/50\n",
      "97/97 [==============================] - 15s 154ms/step - loss: 0.3604 - accuracy: 0.8238 - val_loss: 0.3813 - val_accuracy: 0.8015\n",
      "Epoch 15/50\n",
      "97/97 [==============================] - 15s 153ms/step - loss: 0.3564 - accuracy: 0.8193 - val_loss: 0.3670 - val_accuracy: 0.8070\n",
      "Epoch 16/50\n",
      "97/97 [==============================] - 15s 154ms/step - loss: 0.3426 - accuracy: 0.8303 - val_loss: 0.3580 - val_accuracy: 0.8217\n",
      "Epoch 17/50\n",
      "97/97 [==============================] - 15s 155ms/step - loss: 0.3337 - accuracy: 0.8380 - val_loss: 0.3698 - val_accuracy: 0.8125\n",
      "Epoch 18/50\n",
      "97/97 [==============================] - 15s 152ms/step - loss: 0.3326 - accuracy: 0.8335 - val_loss: 0.3899 - val_accuracy: 0.8125\n",
      "Epoch 19/50\n",
      "97/97 [==============================] - 15s 156ms/step - loss: 0.3256 - accuracy: 0.8432 - val_loss: 0.3436 - val_accuracy: 0.8254\n",
      "Epoch 20/50\n",
      "97/97 [==============================] - 15s 155ms/step - loss: 0.3217 - accuracy: 0.8451 - val_loss: 0.3544 - val_accuracy: 0.8180\n",
      "Epoch 21/50\n",
      "97/97 [==============================] - 15s 154ms/step - loss: 0.3130 - accuracy: 0.8496 - val_loss: 0.3391 - val_accuracy: 0.8327\n",
      "Epoch 22/50\n",
      "97/97 [==============================] - 15s 154ms/step - loss: 0.3069 - accuracy: 0.8548 - val_loss: 0.3313 - val_accuracy: 0.8346\n",
      "Epoch 23/50\n",
      "97/97 [==============================] - 15s 154ms/step - loss: 0.3067 - accuracy: 0.8554 - val_loss: 0.3290 - val_accuracy: 0.8327\n",
      "Epoch 24/50\n",
      "97/97 [==============================] - 15s 154ms/step - loss: 0.2984 - accuracy: 0.8571 - val_loss: 0.3266 - val_accuracy: 0.8327\n",
      "Epoch 25/50\n",
      "97/97 [==============================] - 14s 149ms/step - loss: 0.2911 - accuracy: 0.8641 - val_loss: 0.3619 - val_accuracy: 0.8272\n",
      "Epoch 26/50\n",
      "97/97 [==============================] - 14s 144ms/step - loss: 0.2867 - accuracy: 0.8629 - val_loss: 0.3331 - val_accuracy: 0.8346\n",
      "Epoch 27/50\n",
      "97/97 [==============================] - 14s 147ms/step - loss: 0.2855 - accuracy: 0.8629 - val_loss: 0.3312 - val_accuracy: 0.8419\n",
      "Epoch 28/50\n",
      "97/97 [==============================] - 14s 146ms/step - loss: 0.2796 - accuracy: 0.8632 - val_loss: 0.3480 - val_accuracy: 0.8254\n",
      "Epoch 29/50\n",
      "97/97 [==============================] - 14s 146ms/step - loss: 0.2781 - accuracy: 0.8622 - val_loss: 0.3254 - val_accuracy: 0.8419\n",
      "Epoch 30/50\n",
      "97/97 [==============================] - 14s 147ms/step - loss: 0.2711 - accuracy: 0.8693 - val_loss: 0.3083 - val_accuracy: 0.8493\n",
      "Epoch 31/50\n",
      "97/97 [==============================] - 14s 147ms/step - loss: 0.2665 - accuracy: 0.8693 - val_loss: 0.2923 - val_accuracy: 0.8529\n",
      "Epoch 32/50\n",
      "97/97 [==============================] - 14s 146ms/step - loss: 0.2639 - accuracy: 0.8758 - val_loss: 0.3221 - val_accuracy: 0.8401\n",
      "Epoch 33/50\n",
      "97/97 [==============================] - 14s 147ms/step - loss: 0.2550 - accuracy: 0.8829 - val_loss: 0.2862 - val_accuracy: 0.8603\n",
      "Epoch 34/50\n",
      "97/97 [==============================] - 14s 147ms/step - loss: 0.2478 - accuracy: 0.8896 - val_loss: 0.3613 - val_accuracy: 0.8474\n",
      "Epoch 35/50\n",
      "97/97 [==============================] - 14s 148ms/step - loss: 0.2450 - accuracy: 0.8854 - val_loss: 0.2973 - val_accuracy: 0.8548\n",
      "Epoch 36/50\n",
      "97/97 [==============================] - 14s 145ms/step - loss: 0.2423 - accuracy: 0.8887 - val_loss: 0.2797 - val_accuracy: 0.8640\n",
      "Epoch 37/50\n",
      "97/97 [==============================] - 14s 147ms/step - loss: 0.2362 - accuracy: 0.8916 - val_loss: 0.2793 - val_accuracy: 0.8640\n",
      "Epoch 38/50\n",
      "97/97 [==============================] - 14s 148ms/step - loss: 0.2348 - accuracy: 0.8913 - val_loss: 0.2993 - val_accuracy: 0.8676\n",
      "Epoch 39/50\n",
      "97/97 [==============================] - 14s 145ms/step - loss: 0.2318 - accuracy: 0.8900 - val_loss: 0.2926 - val_accuracy: 0.8585\n",
      "Epoch 40/50\n",
      "97/97 [==============================] - 14s 147ms/step - loss: 0.2334 - accuracy: 0.8948 - val_loss: 0.2805 - val_accuracy: 0.8732\n",
      "Epoch 41/50\n",
      "97/97 [==============================] - 14s 148ms/step - loss: 0.2242 - accuracy: 0.8974 - val_loss: 0.2847 - val_accuracy: 0.8732\n",
      "Epoch 42/50\n",
      "97/97 [==============================] - 14s 147ms/step - loss: 0.2168 - accuracy: 0.9025 - val_loss: 0.2752 - val_accuracy: 0.8750\n",
      "Epoch 43/50\n",
      "97/97 [==============================] - 14s 148ms/step - loss: 0.2165 - accuracy: 0.9038 - val_loss: 0.2950 - val_accuracy: 0.8621\n",
      "Epoch 44/50\n",
      "97/97 [==============================] - 14s 146ms/step - loss: 0.2087 - accuracy: 0.9074 - val_loss: 0.2977 - val_accuracy: 0.8824\n",
      "Epoch 45/50\n",
      "97/97 [==============================] - 14s 145ms/step - loss: 0.2018 - accuracy: 0.9142 - val_loss: 0.2718 - val_accuracy: 0.8787\n",
      "Epoch 46/50\n",
      "97/97 [==============================] - 14s 146ms/step - loss: 0.1983 - accuracy: 0.9093 - val_loss: 0.2853 - val_accuracy: 0.8842\n",
      "Epoch 47/50\n",
      "97/97 [==============================] - 14s 148ms/step - loss: 0.1974 - accuracy: 0.9109 - val_loss: 0.3794 - val_accuracy: 0.8585\n",
      "Epoch 48/50\n",
      "97/97 [==============================] - 14s 147ms/step - loss: 0.1935 - accuracy: 0.9161 - val_loss: 0.3128 - val_accuracy: 0.8713\n",
      "Epoch 49/50\n",
      "97/97 [==============================] - 14s 144ms/step - loss: 0.1808 - accuracy: 0.9255 - val_loss: 0.2638 - val_accuracy: 0.8879\n",
      "Epoch 50/50\n",
      "97/97 [==============================] - 15s 150ms/step - loss: 0.1863 - accuracy: 0.9180 - val_loss: 0.2539 - val_accuracy: 0.8879\n"
     ]
    }
   ],
   "source": [
    "history_cnn = model.fit(train_images,\n",
    "                    train_y,\n",
    "                    epochs=50,\n",
    "                    batch_size=32,\n",
    "                    validation_data=(val_images, val_y))"
   ]
  },
  {
   "cell_type": "code",
   "execution_count": 35,
   "metadata": {},
   "outputs": [
    {
     "data": {
      "text/plain": [
       "(3099, 12288)"
      ]
     },
     "execution_count": 35,
     "metadata": {},
     "output_type": "execute_result"
    }
   ],
   "source": [
    "train_img.shape"
   ]
  },
  {
   "cell_type": "code",
   "execution_count": 36,
   "metadata": {
    "scrolled": true
   },
   "outputs": [
    {
     "data": {
      "image/png": "[encoded data removed]",
      "text/plain": [
       "<Figure size 432x288 with 1 Axes>"
      ]
     },
     "metadata": {
      "needs_background": "light"
     },
     "output_type": "display_data"
    },
    {
     "data": {
      "image/png": "[encoded data removed]",
      "text/plain": [
       "<Figure size 432x288 with 1 Axes>"
      ]
     },
     "metadata": {
      "needs_background": "light"
     },
     "output_type": "display_data"
    }
   ],
   "source": [
    "viz_train_res(history_cnn)"
   ]
  },
  {
   "cell_type": "markdown",
   "metadata": {},
   "source": [
    "A much better model in terms of overfitting, with no real work to reduce overfitting. Accuracy and loss are also better than the fully connected baseline model. "
   ]
  },
  {
   "cell_type": "code",
   "execution_count": 37,
   "metadata": {},
   "outputs": [],
   "source": [
    "#updating output layer actiation funtion to softmax and changing optimizer and loss\n",
    "\n",
    "input_shape = (64, 64, 3)\n",
    "x = tf.random.normal(input_shape)\n",
    "    \n",
    "model = models.Sequential()\n",
    "model.add(layers.Conv2D(32, (3, 3), activation='relu',\n",
    "                        input_shape=(64 ,64,  3)))\n",
    "model.add(layers.MaxPooling2D((2, 2)))\n",
    "\n",
    "model.add(layers.Conv2D(64, (5,5), activation='relu'))\n",
    "model.add(layers.MaxPooling2D((2, 2)))\n",
    "\n",
    "model.add(layers.Flatten())\n",
    "model.add(layers.Dense(64, activation='relu'))\n",
    "model.add(layers.Dense(4, activation='softmax'))\n",
    "\n",
    "model.compile(optimizer=tf.keras.optimizers.Adam(lr=.003),\n",
    "                loss=\"sparse_categorical_crossentropy\",\n",
    "                metrics='accuracy')"
   ]
  },
  {
   "cell_type": "code",
   "execution_count": 38,
   "metadata": {},
   "outputs": [
    {
     "name": "stdout",
     "output_type": "stream",
     "text": [
      "Epoch 1/75\n",
      "97/97 [==============================] - 14s 148ms/step - loss: 0.5292 - accuracy: 0.7231 - val_loss: 0.3867 - val_accuracy: 0.7831\n",
      "Epoch 2/75\n",
      "97/97 [==============================] - 14s 146ms/step - loss: 0.4027 - accuracy: 0.7883 - val_loss: 0.3938 - val_accuracy: 0.7592\n",
      "Epoch 3/75\n",
      "97/97 [==============================] - 14s 144ms/step - loss: 0.3444 - accuracy: 0.8293 - val_loss: 0.4911 - val_accuracy: 0.7610\n",
      "Epoch 4/75\n",
      "97/97 [==============================] - 14s 143ms/step - loss: 0.3239 - accuracy: 0.8354 - val_loss: 0.3076 - val_accuracy: 0.8511\n",
      "Epoch 5/75\n",
      "97/97 [==============================] - 14s 145ms/step - loss: 0.3302 - accuracy: 0.8287 - val_loss: 0.3906 - val_accuracy: 0.8199\n",
      "Epoch 6/75\n",
      "97/97 [==============================] - 14s 146ms/step - loss: 0.2759 - accuracy: 0.8635 - val_loss: 0.2995 - val_accuracy: 0.8548\n",
      "Epoch 7/75\n",
      "97/97 [==============================] - 14s 149ms/step - loss: 0.2809 - accuracy: 0.8654 - val_loss: 0.2877 - val_accuracy: 0.8548\n",
      "Epoch 8/75\n",
      "97/97 [==============================] - 14s 145ms/step - loss: 0.2547 - accuracy: 0.8819 - val_loss: 0.3238 - val_accuracy: 0.8585\n",
      "Epoch 9/75\n",
      "97/97 [==============================] - 14s 143ms/step - loss: 0.2586 - accuracy: 0.8729 - val_loss: 0.4035 - val_accuracy: 0.8419\n",
      "Epoch 10/75\n",
      "97/97 [==============================] - 14s 145ms/step - loss: 0.2334 - accuracy: 0.8867 - val_loss: 0.2599 - val_accuracy: 0.8548\n",
      "Epoch 11/75\n",
      "97/97 [==============================] - 14s 145ms/step - loss: 0.2004 - accuracy: 0.9058 - val_loss: 0.2488 - val_accuracy: 0.8621\n",
      "Epoch 12/75\n",
      "97/97 [==============================] - 14s 145ms/step - loss: 0.1824 - accuracy: 0.9209 - val_loss: 0.2945 - val_accuracy: 0.8824\n",
      "Epoch 13/75\n",
      "97/97 [==============================] - 14s 145ms/step - loss: 0.1959 - accuracy: 0.9119 - val_loss: 0.3146 - val_accuracy: 0.8787\n",
      "Epoch 14/75\n",
      "97/97 [==============================] - 14s 144ms/step - loss: 0.1544 - accuracy: 0.9380 - val_loss: 0.3636 - val_accuracy: 0.8805\n",
      "Epoch 15/75\n",
      "97/97 [==============================] - 14s 144ms/step - loss: 0.1283 - accuracy: 0.9451 - val_loss: 0.5012 - val_accuracy: 0.8842\n",
      "Epoch 16/75\n",
      "97/97 [==============================] - 14s 145ms/step - loss: 0.1315 - accuracy: 0.9464 - val_loss: 0.3146 - val_accuracy: 0.8934\n",
      "Epoch 17/75\n",
      "97/97 [==============================] - 14s 145ms/step - loss: 0.1591 - accuracy: 0.9342 - val_loss: 0.4339 - val_accuracy: 0.8842\n",
      "Epoch 18/75\n",
      "97/97 [==============================] - 14s 144ms/step - loss: 0.1092 - accuracy: 0.9577 - val_loss: 0.3647 - val_accuracy: 0.8824\n",
      "Epoch 19/75\n",
      "97/97 [==============================] - 14s 145ms/step - loss: 0.0871 - accuracy: 0.9652 - val_loss: 0.4705 - val_accuracy: 0.8879\n",
      "Epoch 20/75\n",
      "97/97 [==============================] - 14s 144ms/step - loss: 0.0833 - accuracy: 0.9681 - val_loss: 0.4865 - val_accuracy: 0.8989\n",
      "Epoch 21/75\n",
      "97/97 [==============================] - 14s 145ms/step - loss: 0.0623 - accuracy: 0.9797 - val_loss: 0.5255 - val_accuracy: 0.8934\n",
      "Epoch 22/75\n",
      "97/97 [==============================] - 14s 144ms/step - loss: 0.0353 - accuracy: 0.9900 - val_loss: 0.5988 - val_accuracy: 0.8824\n",
      "Epoch 23/75\n",
      "97/97 [==============================] - 14s 144ms/step - loss: 0.0475 - accuracy: 0.9810 - val_loss: 0.4757 - val_accuracy: 0.8934\n",
      "Epoch 24/75\n",
      "97/97 [==============================] - 14s 141ms/step - loss: 0.0178 - accuracy: 0.9961 - val_loss: 0.5368 - val_accuracy: 0.8897\n",
      "Epoch 25/75\n",
      "97/97 [==============================] - 14s 143ms/step - loss: 0.0135 - accuracy: 0.9968 - val_loss: 0.8200 - val_accuracy: 0.8805\n",
      "Epoch 26/75\n",
      "97/97 [==============================] - 14s 141ms/step - loss: 0.0074 - accuracy: 0.9984 - val_loss: 0.7578 - val_accuracy: 0.8842\n",
      "Epoch 27/75\n",
      "97/97 [==============================] - 14s 140ms/step - loss: 0.0101 - accuracy: 0.9965 - val_loss: 0.8376 - val_accuracy: 0.8805\n",
      "Epoch 28/75\n",
      "97/97 [==============================] - 14s 141ms/step - loss: 0.0101 - accuracy: 0.9977 - val_loss: 0.8118 - val_accuracy: 0.8934\n",
      "Epoch 29/75\n",
      "97/97 [==============================] - 14s 142ms/step - loss: 0.0056 - accuracy: 0.9987 - val_loss: 0.9978 - val_accuracy: 0.8768\n",
      "Epoch 30/75\n",
      "97/97 [==============================] - 14s 142ms/step - loss: 0.0015 - accuracy: 0.9997 - val_loss: 1.0059 - val_accuracy: 0.8787\n",
      "Epoch 31/75\n",
      "97/97 [==============================] - 14s 143ms/step - loss: 0.0011 - accuracy: 0.9997 - val_loss: 1.0862 - val_accuracy: 0.8824\n",
      "Epoch 32/75\n",
      "97/97 [==============================] - 14s 146ms/step - loss: 0.0010 - accuracy: 0.9997 - val_loss: 1.0413 - val_accuracy: 0.8787\n",
      "Epoch 33/75\n",
      "97/97 [==============================] - 14s 145ms/step - loss: 0.0011 - accuracy: 0.9994 - val_loss: 1.1789 - val_accuracy: 0.8787\n",
      "Epoch 34/75\n",
      "97/97 [==============================] - 14s 145ms/step - loss: 0.0060 - accuracy: 0.9990 - val_loss: 0.8774 - val_accuracy: 0.8842\n",
      "Epoch 35/75\n",
      "97/97 [==============================] - 14s 145ms/step - loss: 0.0302 - accuracy: 0.9913 - val_loss: 0.9871 - val_accuracy: 0.8640\n",
      "Epoch 36/75\n",
      "97/97 [==============================] - 14s 145ms/step - loss: 0.1013 - accuracy: 0.9681 - val_loss: 0.4721 - val_accuracy: 0.8805\n",
      "Epoch 37/75\n",
      "97/97 [==============================] - 14s 147ms/step - loss: 0.0691 - accuracy: 0.9800 - val_loss: 0.5311 - val_accuracy: 0.8897\n",
      "Epoch 38/75\n",
      "97/97 [==============================] - 14s 146ms/step - loss: 0.0379 - accuracy: 0.9894 - val_loss: 0.6700 - val_accuracy: 0.8805\n",
      "Epoch 39/75\n",
      "97/97 [==============================] - 14s 145ms/step - loss: 0.0445 - accuracy: 0.9884 - val_loss: 1.0716 - val_accuracy: 0.8493\n",
      "Epoch 40/75\n",
      "97/97 [==============================] - 14s 145ms/step - loss: 0.0205 - accuracy: 0.9952 - val_loss: 0.6479 - val_accuracy: 0.8787\n",
      "Epoch 41/75\n",
      "97/97 [==============================] - 14s 145ms/step - loss: 0.0031 - accuracy: 0.9997 - val_loss: 0.6835 - val_accuracy: 0.8768\n",
      "Epoch 42/75\n",
      "97/97 [==============================] - 14s 145ms/step - loss: 0.0015 - accuracy: 0.9997 - val_loss: 0.7065 - val_accuracy: 0.8842\n",
      "Epoch 43/75\n",
      "97/97 [==============================] - 14s 145ms/step - loss: 0.0013 - accuracy: 0.9997 - val_loss: 0.7432 - val_accuracy: 0.8824\n",
      "Epoch 44/75\n",
      "97/97 [==============================] - 14s 144ms/step - loss: 0.0011 - accuracy: 0.9997 - val_loss: 0.7753 - val_accuracy: 0.8787\n",
      "Epoch 45/75\n",
      "97/97 [==============================] - 14s 145ms/step - loss: 0.0010 - accuracy: 0.9997 - val_loss: 0.7920 - val_accuracy: 0.8842\n",
      "Epoch 46/75\n",
      "97/97 [==============================] - 14s 146ms/step - loss: 9.9206e-04 - accuracy: 0.9997 - val_loss: 0.8247 - val_accuracy: 0.8860\n",
      "Epoch 47/75\n",
      "97/97 [==============================] - 14s 146ms/step - loss: 9.5051e-04 - accuracy: 0.9997 - val_loss: 0.8599 - val_accuracy: 0.8879\n",
      "Epoch 48/75\n",
      "97/97 [==============================] - 14s 144ms/step - loss: 9.1385e-04 - accuracy: 0.9997 - val_loss: 0.8934 - val_accuracy: 0.8842\n",
      "Epoch 49/75\n",
      "97/97 [==============================] - 14s 146ms/step - loss: 8.8778e-04 - accuracy: 0.9997 - val_loss: 0.8871 - val_accuracy: 0.8860\n",
      "Epoch 50/75\n",
      "97/97 [==============================] - 14s 145ms/step - loss: 8.5575e-04 - accuracy: 0.9997 - val_loss: 0.9093 - val_accuracy: 0.8842\n",
      "Epoch 51/75\n",
      "97/97 [==============================] - 16s 161ms/step - loss: 8.3278e-04 - accuracy: 0.9997 - val_loss: 0.9467 - val_accuracy: 0.8879\n",
      "Epoch 52/75\n",
      "97/97 [==============================] - 15s 153ms/step - loss: 8.1520e-04 - accuracy: 0.9997 - val_loss: 0.9403 - val_accuracy: 0.8879\n",
      "Epoch 53/75\n",
      "97/97 [==============================] - 15s 152ms/step - loss: 7.9801e-04 - accuracy: 0.9997 - val_loss: 0.9547 - val_accuracy: 0.8879\n",
      "Epoch 54/75\n",
      "97/97 [==============================] - 15s 152ms/step - loss: 7.8253e-04 - accuracy: 0.9997 - val_loss: 0.9754 - val_accuracy: 0.8842\n",
      "Epoch 55/75\n",
      "97/97 [==============================] - 15s 152ms/step - loss: 7.6803e-04 - accuracy: 0.9997 - val_loss: 0.9149 - val_accuracy: 0.8897\n",
      "Epoch 56/75\n",
      "97/97 [==============================] - 15s 152ms/step - loss: 7.5495e-04 - accuracy: 0.9997 - val_loss: 0.9907 - val_accuracy: 0.8805\n",
      "Epoch 57/75\n"
     ]
    },
    {
     "name": "stdout",
     "output_type": "stream",
     "text": [
      "97/97 [==============================] - 15s 152ms/step - loss: 7.4103e-04 - accuracy: 0.9997 - val_loss: 1.0102 - val_accuracy: 0.8824\n",
      "Epoch 58/75\n",
      "97/97 [==============================] - 15s 152ms/step - loss: 7.3147e-04 - accuracy: 0.9997 - val_loss: 0.9741 - val_accuracy: 0.8897\n",
      "Epoch 59/75\n",
      "97/97 [==============================] - 15s 152ms/step - loss: 7.1814e-04 - accuracy: 0.9997 - val_loss: 1.0277 - val_accuracy: 0.8842\n",
      "Epoch 60/75\n",
      "97/97 [==============================] - 15s 152ms/step - loss: 7.0955e-04 - accuracy: 0.9997 - val_loss: 1.0240 - val_accuracy: 0.8842\n",
      "Epoch 61/75\n",
      "97/97 [==============================] - 15s 152ms/step - loss: 6.9925e-04 - accuracy: 0.9997 - val_loss: 1.0393 - val_accuracy: 0.8842\n",
      "Epoch 62/75\n",
      "97/97 [==============================] - 15s 152ms/step - loss: 6.9166e-04 - accuracy: 0.9997 - val_loss: 0.9998 - val_accuracy: 0.8879\n",
      "Epoch 63/75\n",
      "97/97 [==============================] - 15s 153ms/step - loss: 6.8135e-04 - accuracy: 0.9997 - val_loss: 1.0461 - val_accuracy: 0.8842\n",
      "Epoch 64/75\n",
      "97/97 [==============================] - 15s 152ms/step - loss: 6.7335e-04 - accuracy: 0.9997 - val_loss: 1.0299 - val_accuracy: 0.8860\n",
      "Epoch 65/75\n",
      "97/97 [==============================] - 15s 155ms/step - loss: 6.6650e-04 - accuracy: 0.9997 - val_loss: 1.0372 - val_accuracy: 0.8842\n",
      "Epoch 66/75\n",
      "97/97 [==============================] - 15s 152ms/step - loss: 6.5870e-04 - accuracy: 0.9997 - val_loss: 1.0434 - val_accuracy: 0.8860\n",
      "Epoch 67/75\n",
      "97/97 [==============================] - 15s 152ms/step - loss: 6.5195e-04 - accuracy: 0.9997 - val_loss: 1.0690 - val_accuracy: 0.8860\n",
      "Epoch 68/75\n",
      "97/97 [==============================] - 15s 153ms/step - loss: 0.2153 - accuracy: 0.9484 - val_loss: 0.4347 - val_accuracy: 0.8750\n",
      "Epoch 69/75\n",
      "97/97 [==============================] - 15s 152ms/step - loss: 0.1472 - accuracy: 0.9380 - val_loss: 0.4004 - val_accuracy: 0.8860\n",
      "Epoch 70/75\n",
      "97/97 [==============================] - 15s 153ms/step - loss: 0.0570 - accuracy: 0.9810 - val_loss: 0.5840 - val_accuracy: 0.8860\n",
      "Epoch 71/75\n",
      "97/97 [==============================] - 15s 153ms/step - loss: 0.0274 - accuracy: 0.9926 - val_loss: 0.7798 - val_accuracy: 0.8897\n",
      "Epoch 72/75\n",
      "97/97 [==============================] - 15s 154ms/step - loss: 0.0138 - accuracy: 0.9961 - val_loss: 0.6695 - val_accuracy: 0.8824\n",
      "Epoch 73/75\n",
      "97/97 [==============================] - 15s 153ms/step - loss: 0.0033 - accuracy: 0.9997 - val_loss: 0.7876 - val_accuracy: 0.8934\n",
      "Epoch 74/75\n",
      "97/97 [==============================] - 15s 152ms/step - loss: 0.0012 - accuracy: 0.9997 - val_loss: 0.8337 - val_accuracy: 0.8934\n",
      "Epoch 75/75\n",
      "97/97 [==============================] - 15s 153ms/step - loss: 9.6267e-04 - accuracy: 0.9997 - val_loss: 0.8786 - val_accuracy: 0.8915\n"
     ]
    }
   ],
   "source": [
    "history_cnn2 = model.fit(train_images,\n",
    "                    train_y,\n",
    "                    epochs=75,\n",
    "                    batch_size=32,\n",
    "                    validation_data=(val_images, val_y))"
   ]
  },
  {
   "cell_type": "code",
   "execution_count": 39,
   "metadata": {},
   "outputs": [
    {
     "data": {
      "image/png": "[encoded data removed]",
      "text/plain": [
       "<Figure size 432x288 with 1 Axes>"
      ]
     },
     "metadata": {
      "needs_background": "light"
     },
     "output_type": "display_data"
    },
    {
     "data": {
      "image/png": "[encoded data removed]",
      "text/plain": [
       "<Figure size 432x288 with 1 Axes>"
      ]
     },
     "metadata": {
      "needs_background": "light"
     },
     "output_type": "display_data"
    }
   ],
   "source": [
    "def viz_train_res2(results):\n",
    "    history = results.history\n",
    "    plt.figure()\n",
    "    plt.plot(history['val_loss'])\n",
    "    plt.plot(history['loss'])\n",
    "    plt.legend(['val_loss', 'loss'])\n",
    "    plt.title('Loss')\n",
    "    plt.xlabel('Epochs')\n",
    "    plt.ylabel('Loss')\n",
    "    plt.show()\n",
    "    \n",
    "    plt.figure()\n",
    "    plt.plot(history['val_accuracy'])\n",
    "    plt.plot(history['accuracy'])\n",
    "    plt.legend(['val_accuracy', 'accuracy'])\n",
    "    plt.title('Accuracy')\n",
    "    plt.xlabel('Epochs')\n",
    "    plt.ylabel('Accuracy')\n",
    "    plt.show()\n",
    "    \n",
    "viz_train_res2(history_cnn2)"
   ]
  },
  {
   "cell_type": "markdown",
   "metadata": {},
   "source": [
    "Definitely have some massive overfitting, but overall the model seems to have performed really well! Augmentation and possibly a dropout layer could be the next steps to fix the overfitting problem"
   ]
  },
  {
   "cell_type": "code",
   "execution_count": 48,
   "metadata": {},
   "outputs": [],
   "source": [
    "#next update is to releive overfitting by adding dropout layers\n",
    "    \n",
    "model = models.Sequential()\n",
    "model.add(layers.Conv2D(32, (3, 3), activation='relu',\n",
    "                        input_shape=(64 ,64,  3)))\n",
    "model.add(layers.MaxPooling2D((2, 2)))\n",
    "\n",
    "model.add(layers.Conv2D(64, (5,5), activation='relu'))\n",
    "model.add(layers.MaxPooling2D((2, 2)))\n",
    "model.add(layers.Dropout(rate = .5))\n",
    "\n",
    "model.add(layers.Flatten())\n",
    "model.add(layers.Dense(64, activation='relu'))\n",
    "model.add(layers.Dense(4, activation='softmax'))\n",
    "\n",
    "model.compile(optimizer=tf.keras.optimizers.Adam(lr=.003),\n",
    "                loss=\"sparse_categorical_crossentropy\",\n",
    "                metrics='accuracy')"
   ]
  },
  {
   "cell_type": "code",
   "execution_count": 49,
   "metadata": {},
   "outputs": [
    {
     "name": "stdout",
     "output_type": "stream",
     "text": [
      "Epoch 1/30\n",
      "97/97 [==============================] - 11s 110ms/step - loss: 0.5041 - accuracy: 0.7441 - val_loss: 0.3797 - val_accuracy: 0.7702\n",
      "Epoch 2/30\n",
      "97/97 [==============================] - 10s 105ms/step - loss: 0.3822 - accuracy: 0.8015 - val_loss: 0.4454 - val_accuracy: 0.7868\n",
      "Epoch 3/30\n",
      "97/97 [==============================] - 11s 109ms/step - loss: 0.3383 - accuracy: 0.8328 - val_loss: 0.3886 - val_accuracy: 0.7923\n",
      "Epoch 4/30\n",
      "97/97 [==============================] - 11s 110ms/step - loss: 0.3008 - accuracy: 0.8551 - val_loss: 0.2629 - val_accuracy: 0.8750\n",
      "Epoch 5/30\n",
      "97/97 [==============================] - 11s 110ms/step - loss: 0.2725 - accuracy: 0.8774 - val_loss: 0.2902 - val_accuracy: 0.8695\n",
      "Epoch 6/30\n",
      "97/97 [==============================] - 11s 110ms/step - loss: 0.2648 - accuracy: 0.8754 - val_loss: 0.3814 - val_accuracy: 0.8401\n",
      "Epoch 7/30\n",
      "97/97 [==============================] - 11s 109ms/step - loss: 0.4106 - accuracy: 0.8241 - val_loss: 0.3392 - val_accuracy: 0.8474\n",
      "Epoch 8/30\n",
      "97/97 [==============================] - 11s 110ms/step - loss: 0.3154 - accuracy: 0.8545 - val_loss: 0.3288 - val_accuracy: 0.8511\n",
      "Epoch 9/30\n",
      "97/97 [==============================] - 11s 109ms/step - loss: 0.2815 - accuracy: 0.8745 - val_loss: 0.2705 - val_accuracy: 0.8676\n",
      "Epoch 10/30\n",
      "97/97 [==============================] - 11s 110ms/step - loss: 0.2632 - accuracy: 0.8774 - val_loss: 0.3243 - val_accuracy: 0.8732\n",
      "Epoch 11/30\n",
      "97/97 [==============================] - 10s 104ms/step - loss: 0.2461 - accuracy: 0.8948 - val_loss: 0.2594 - val_accuracy: 0.8824\n",
      "Epoch 12/30\n",
      "97/97 [==============================] - 10s 105ms/step - loss: 0.2261 - accuracy: 0.9045 - val_loss: 0.2712 - val_accuracy: 0.8768\n",
      "Epoch 13/30\n",
      "97/97 [==============================] - 11s 114ms/step - loss: 0.2170 - accuracy: 0.9048 - val_loss: 0.3069 - val_accuracy: 0.8915\n",
      "Epoch 14/30\n",
      "97/97 [==============================] - 11s 113ms/step - loss: 0.2020 - accuracy: 0.9161 - val_loss: 0.2916 - val_accuracy: 0.8879\n",
      "Epoch 15/30\n",
      "97/97 [==============================] - 11s 113ms/step - loss: 0.1930 - accuracy: 0.9164 - val_loss: 0.2649 - val_accuracy: 0.9044\n",
      "Epoch 16/30\n",
      "97/97 [==============================] - 11s 112ms/step - loss: 0.1828 - accuracy: 0.9268 - val_loss: 0.3271 - val_accuracy: 0.8934\n",
      "Epoch 17/30\n",
      "97/97 [==============================] - 11s 112ms/step - loss: 0.1740 - accuracy: 0.9322 - val_loss: 0.3371 - val_accuracy: 0.8915\n",
      "Epoch 18/30\n",
      "97/97 [==============================] - 11s 112ms/step - loss: 0.1614 - accuracy: 0.9338 - val_loss: 0.6279 - val_accuracy: 0.8805\n",
      "Epoch 19/30\n",
      "97/97 [==============================] - 11s 113ms/step - loss: 0.1766 - accuracy: 0.9238 - val_loss: 0.3372 - val_accuracy: 0.8897\n",
      "Epoch 20/30\n",
      "97/97 [==============================] - 11s 113ms/step - loss: 0.1417 - accuracy: 0.9374 - val_loss: 0.3761 - val_accuracy: 0.8897\n",
      "Epoch 21/30\n",
      "97/97 [==============================] - 11s 112ms/step - loss: 0.1485 - accuracy: 0.9387 - val_loss: 0.3935 - val_accuracy: 0.8842\n",
      "Epoch 22/30\n",
      "97/97 [==============================] - 11s 112ms/step - loss: 0.1274 - accuracy: 0.9490 - val_loss: 0.4446 - val_accuracy: 0.8934\n",
      "Epoch 23/30\n",
      "97/97 [==============================] - 11s 113ms/step - loss: 0.1270 - accuracy: 0.9510 - val_loss: 0.3824 - val_accuracy: 0.8934\n",
      "Epoch 24/30\n",
      "97/97 [==============================] - 11s 113ms/step - loss: 0.1115 - accuracy: 0.9564 - val_loss: 0.5235 - val_accuracy: 0.8879\n",
      "Epoch 25/30\n",
      "97/97 [==============================] - 11s 113ms/step - loss: 0.1145 - accuracy: 0.9577 - val_loss: 0.5468 - val_accuracy: 0.8897\n",
      "Epoch 26/30\n",
      "97/97 [==============================] - 11s 113ms/step - loss: 0.1027 - accuracy: 0.9603 - val_loss: 0.5142 - val_accuracy: 0.8897\n",
      "Epoch 27/30\n",
      "97/97 [==============================] - 11s 112ms/step - loss: 0.1260 - accuracy: 0.9535 - val_loss: 0.4338 - val_accuracy: 0.8750\n",
      "Epoch 28/30\n",
      "97/97 [==============================] - 11s 113ms/step - loss: 0.0934 - accuracy: 0.9642 - val_loss: 0.3941 - val_accuracy: 0.8824\n",
      "Epoch 29/30\n",
      "97/97 [==============================] - 11s 114ms/step - loss: 0.1135 - accuracy: 0.9606 - val_loss: 0.4258 - val_accuracy: 0.8805\n",
      "Epoch 30/30\n",
      "97/97 [==============================] - 11s 114ms/step - loss: 0.1033 - accuracy: 0.9593 - val_loss: 0.4339 - val_accuracy: 0.8824\n"
     ]
    }
   ],
   "source": [
    "#lowering epochs to 30\n",
    "history_cnn3 = model.fit(train_images,\n",
    "                    train_y,\n",
    "                    epochs=30,\n",
    "                    batch_size=32,\n",
    "                    validation_data=(val_images, val_y))"
   ]
  },
  {
   "cell_type": "code",
   "execution_count": 50,
   "metadata": {
    "scrolled": true
   },
   "outputs": [
    {
     "data": {
      "image/png": "[encoded data removed]",
      "text/plain": [
       "<Figure size 432x288 with 1 Axes>"
      ]
     },
     "metadata": {
      "needs_background": "light"
     },
     "output_type": "display_data"
    },
    {
     "data": {
      "image/png": "[encoded data removed]",
      "text/plain": [
       "<Figure size 432x288 with 1 Axes>"
      ]
     },
     "metadata": {
      "needs_background": "light"
     },
     "output_type": "display_data"
    }
   ],
   "source": [
    "viz_train_res(history_cnn3)"
   ]
  },
  {
   "cell_type": "code",
   "execution_count": null,
   "metadata": {},
   "outputs": [],
   "source": []
  }
 ],
 "metadata": {
  "kernelspec": {
   "display_name": "Python 3",
   "language": "python",
   "name": "python3"
  },
  "language_info": {
   "codemirror_mode": {
    "name": "ipython",
    "version": 3
   },
   "file_extension": ".py",
   "mimetype": "text/x-python",
   "name": "python",
   "nbconvert_exporter": "python",
   "pygments_lexer": "ipython3",
   "version": "3.8.3"
  }
 },
 "nbformat": 4,
 "nbformat_minor": 4
}
