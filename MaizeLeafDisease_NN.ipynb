{
 "cells": [
  {
   "cell_type": "code",
   "execution_count": 26,
   "metadata": {},
   "outputs": [],
   "source": [
    "from tensorflow import keras\n",
    "from keras.models import Sequential\n",
    "from keras.layers import Dense\n",
    "from keras import models, layers\n",
    "import numpy as np \n",
    "import pandas as pd\n",
    "import matplotlib.pyplot as plt\n",
    "from PIL import Image\n",
    "import os, os.path, shutil\n",
    "from keras.preprocessing.image import img_to_array, ImageDataGenerator, array_to_img, load_img"
   ]
  },
  {
   "cell_type": "code",
   "execution_count": 2,
   "metadata": {},
   "outputs": [],
   "source": [
    "#open first image as a test \n",
    "im = Image.open('data/Blight/Corn_Blight (1).jpg')\n",
    "arr = np.array(im)"
   ]
  },
  {
   "cell_type": "code",
   "execution_count": 3,
   "metadata": {},
   "outputs": [],
   "source": [
    "#prep for creating directories \n",
    "blight_dir = 'data/Blight/'\n",
    "gray_dir = 'data/Gray_Leaf_Spot'\n",
    "rust_dir = 'data/Common_Rust/'\n",
    "healthy_dir = 'data/Healthy/'\n",
    "new_dir = 'split/'"
   ]
  },
  {
   "cell_type": "code",
   "execution_count": 4,
   "metadata": {},
   "outputs": [],
   "source": [
    "#grab image names for each type\n",
    "imgs_blight = [file for file in os.listdir(blight_dir)]\n",
    "imgs_gray = [file for file in os.listdir(gray_dir)]\n",
    "imgs_rust = [file for file in os.listdir(rust_dir)]\n",
    "imgs_healthy = [file for file in os.listdir(healthy_dir)]"
   ]
  },
  {
   "cell_type": "code",
   "execution_count": 5,
   "metadata": {},
   "outputs": [
    {
     "data": {
      "text/plain": [
       "['Corn_Blight (1).jpg',\n",
       " 'Corn_Blight (1146).jpg',\n",
       " 'Corn_Blight (1147).jpg',\n",
       " 'Corn_Blight (1148).jpg',\n",
       " 'Corn_Blight (1149).jpg']"
      ]
     },
     "execution_count": 5,
     "metadata": {},
     "output_type": "execute_result"
    }
   ],
   "source": [
    "imgs_blight[:5]"
   ]
  },
  {
   "cell_type": "code",
   "execution_count": 6,
   "metadata": {},
   "outputs": [
    {
     "name": "stdout",
     "output_type": "stream",
     "text": [
      "# Blight:  1146\n",
      "# Gray:  574\n",
      "# Rust:  1306\n",
      "# Healthy:  1162\n"
     ]
    }
   ],
   "source": [
    "#Check to ensure all images are included\n",
    "print('# Blight: ', len(imgs_blight))\n",
    "print('# Gray: ', len(imgs_gray))\n",
    "print('# Rust: ', len(imgs_rust))\n",
    "print('# Healthy: ', len(imgs_healthy))"
   ]
  },
  {
   "cell_type": "code",
   "execution_count": 7,
   "metadata": {},
   "outputs": [],
   "source": [
    "#os.mkdir(new_dir)"
   ]
  },
  {
   "cell_type": "code",
   "execution_count": 8,
   "metadata": {},
   "outputs": [],
   "source": [
    "#create variables for new split directories for train/ test/ val\n",
    "train_folder = os.path.join(new_dir, 'train')\n",
    "train_blight = os.path.join(train_folder, 'blight')\n",
    "train_gray = os.path.join(train_folder, 'gray')\n",
    "train_rust = os.path.join(train_folder, 'rust')\n",
    "train_healthy = os.path.join(train_folder, 'healthy')\n",
    "\n",
    "test_folder = os.path.join(new_dir, 'test')\n",
    "test_blight = os.path.join(test_folder, 'blight')\n",
    "test_gray = os.path.join(test_folder, 'gray')\n",
    "test_rust = os.path.join(test_folder, 'rust')\n",
    "test_healthy = os.path.join(test_folder, 'healthy')\n",
    "\n",
    "val_folder = os.path.join(new_dir, 'validation')\n",
    "val_blight = os.path.join(val_folder, 'blight')\n",
    "val_gray = os.path.join(val_folder, 'gray')\n",
    "val_rust = os.path.join(val_folder, 'rust')\n",
    "val_healthy = os.path.join(val_folder, 'healthy')"
   ]
  },
  {
   "cell_type": "code",
   "execution_count": 9,
   "metadata": {},
   "outputs": [],
   "source": [
    "#create directories for splits\n",
    "#os.mkdir(train_folder)\n",
    "#os.mkdir(train_blight)\n",
    "#os.mkdir(train_gray)\n",
    "#os.mkdir(train_rust)\n",
    "#os.mkdir(train_healthy)\n",
    "\n",
    "#os.mkdir(test_folder)\n",
    "#os.mkdir(test_blight)\n",
    "#os.mkdir(test_gray)\n",
    "#os.mkdir(test_rust)\n",
    "#os.mkdir(test_healthy)\n",
    "\n",
    "#os.mkdir(val_folder)\n",
    "#os.mkdir(val_blight)\n",
    "#os.mkdir(val_gray)\n",
    "#os.mkdir(val_rust)\n",
    "#os.mkdir(val_healthy)"
   ]
  },
  {
   "cell_type": "code",
   "execution_count": 10,
   "metadata": {},
   "outputs": [
    {
     "name": "stdout",
     "output_type": "stream",
     "text": [
      "Number of images to train:\n",
      "# Blight:  848\n",
      "# Gray:  425\n",
      "# Rust:  966\n",
      "# Healthy:  860\n",
      "Number of images to test/val:\n",
      "# Blight:  149\n",
      "# Gray:  75\n",
      "# Rust:  170\n",
      "# Healthy:  151\n"
     ]
    }
   ],
   "source": [
    "#use a 74/13/13 split for train/ test/ val \n",
    "print('Number of images to train:')\n",
    "print('# Blight: ', round(len(imgs_blight)*.74))\n",
    "print('# Gray: ', round(len(imgs_gray)*.74))\n",
    "print('# Rust: ', round(len(imgs_rust)*.74))\n",
    "print('# Healthy: ', round(len(imgs_healthy)*.74))\n",
    "\n",
    "#use a 74/13/13 split for train/ test/ val \n",
    "print('Number of images to test/val:')\n",
    "print('# Blight: ', round(len(imgs_blight)*.13))\n",
    "print('# Gray: ', round(len(imgs_gray)*.13))\n",
    "print('# Rust: ', round(len(imgs_rust)*.13))\n",
    "print('# Healthy: ', round(len(imgs_healthy)*.13))"
   ]
  },
  {
   "cell_type": "code",
   "execution_count": 11,
   "metadata": {},
   "outputs": [],
   "source": [
    "# train blight\n",
    "# imgs = imgs_blight[:848]\n",
    "# for img in imgs:\n",
    "#     origin = os.path.join(blight_dir, img)\n",
    "#     destination = os.path.join(train_blight, img)\n",
    "#     shutil.copyfile(origin, destination)\n",
    "    \n",
    "# train grey\n",
    "# imgs = imgs_gray[:425]\n",
    "# for img in imgs:\n",
    "#     origin = os.path.join(gray_dir, img)\n",
    "#     destination = os.path.join(train_gray, img)\n",
    "#     shutil.copyfile(origin, destination)\n",
    "    \n",
    "# train rust\n",
    "# imgs = imgs_rust[:966]\n",
    "# for img in imgs:\n",
    "#     origin = os.path.join(rust_dir, img)\n",
    "#     destination = os.path.join(train_rust, img)\n",
    "#     shutil.copyfile(origin, destination)\n",
    "    \n",
    "# train healthy\n",
    "# imgs = imgs_healthy[:860]\n",
    "# for img in imgs:\n",
    "#     origin = os.path.join(healthy_dir, img)\n",
    "#     destination = os.path.join(train_healthy, img)\n",
    "#     shutil.copyfile(origin, destination)"
   ]
  },
  {
   "cell_type": "code",
   "execution_count": 12,
   "metadata": {},
   "outputs": [],
   "source": [
    "# test blight\n",
    "# imgs = imgs_blight[848:997]\n",
    "# for img in imgs:\n",
    "#     origin = os.path.join(blight_dir, img)\n",
    "#     destination = os.path.join(test_blight, img)\n",
    "#     shutil.copyfile(origin, destination)\n",
    "    \n",
    "# # test grey\n",
    "# imgs = imgs_gray[425:500]\n",
    "# for img in imgs:\n",
    "#     origin = os.path.join(gray_dir, img)\n",
    "#     destination = os.path.join(test_gray, img)\n",
    "#     shutil.copyfile(origin, destination)\n",
    "    \n",
    "# # test rust\n",
    "# imgs = imgs_rust[966:1136]\n",
    "# for img in imgs:\n",
    "#     origin = os.path.join(rust_dir, img)\n",
    "#     destination = os.path.join(test_rust, img)\n",
    "#     shutil.copyfile(origin, destination)\n",
    "    \n",
    "# # test healthy\n",
    "# imgs = imgs_healthy[860:1011]\n",
    "# for img in imgs:\n",
    "#     origin = os.path.join(healthy_dir, img)\n",
    "#     destination = os.path.join(test_healthy, img)\n",
    "#     shutil.copyfile(origin, destination)"
   ]
  },
  {
   "cell_type": "code",
   "execution_count": 13,
   "metadata": {},
   "outputs": [],
   "source": [
    "# # val blight\n",
    "# imgs = imgs_blight[997:]\n",
    "# for img in imgs:\n",
    "#     origin = os.path.join(blight_dir, img)\n",
    "#     destination = os.path.join(val_blight, img)\n",
    "#     shutil.copyfile(origin, destination)\n",
    "    \n",
    "# # val grey\n",
    "# imgs = imgs_gray[500:]\n",
    "# for img in imgs:\n",
    "#     origin = os.path.join(gray_dir, img)\n",
    "#     destination = os.path.join(val_gray, img)\n",
    "#     shutil.copyfile(origin, destination)\n",
    "    \n",
    "# # val rust\n",
    "# imgs = imgs_rust[1136:]\n",
    "# for img in imgs:\n",
    "#     origin = os.path.join(rust_dir, img)\n",
    "#     destination = os.path.join(val_rust, img)\n",
    "#     shutil.copyfile(origin, destination)\n",
    "    \n",
    "# # val healthy\n",
    "# imgs = imgs_healthy[1011:]\n",
    "# for img in imgs:\n",
    "#     origin = os.path.join(healthy_dir, img)\n",
    "#     destination = os.path.join(val_healthy, img)\n",
    "#     shutil.copyfile(origin, destination)"
   ]
  },
  {
   "cell_type": "code",
   "execution_count": 19,
   "metadata": {
    "scrolled": true
   },
   "outputs": [
    {
     "name": "stdout",
     "output_type": "stream",
     "text": [
      "Found 545 images belonging to 4 classes.\n",
      "Found 544 images belonging to 4 classes.\n",
      "Found 3099 images belonging to 4 classes.\n"
     ]
    }
   ],
   "source": [
    "#reshape all images\n",
    "test_batch = 545\n",
    "val_batch = 544\n",
    "train_batch = 3099\n",
    "\n",
    "# get all test images and reshape \n",
    "test_generator = ImageDataGenerator(rescale=1./255).flow_from_directory(test_folder, target_size=(64, 64),\n",
    "                                                                        batch_size = test_batch) \n",
    "\n",
    "# get all validation images and reshape \n",
    "val_generator = ImageDataGenerator(rescale=1./255).flow_from_directory(val_folder, target_size=(64, 64), \n",
    "                                                                      batch_size = val_batch)\n",
    "\n",
    "# get all train images and reshape \n",
    "train_generator = ImageDataGenerator(rescale=1./255).flow_from_directory(train_folder, target_size=(64, 64),\n",
    "                                                                        batch_size = train_batch)"
   ]
  },
  {
   "cell_type": "code",
   "execution_count": 20,
   "metadata": {},
   "outputs": [],
   "source": [
    "#create images/ labels\n",
    "train_images, train_labels = next(train_generator)\n",
    "test_images, test_labels = next(test_generator)\n",
    "val_images, val_labels = next(val_generator)"
   ]
  },
  {
   "cell_type": "code",
   "execution_count": 21,
   "metadata": {
    "scrolled": true
   },
   "outputs": [
    {
     "data": {
      "text/plain": [
       "3099"
      ]
     },
     "execution_count": 21,
     "metadata": {},
     "output_type": "execute_result"
    }
   ],
   "source": [
    "train_images.shape[0]"
   ]
  },
  {
   "cell_type": "code",
   "execution_count": 23,
   "metadata": {},
   "outputs": [
    {
     "name": "stdout",
     "output_type": "stream",
     "text": [
      "(3099, 12288)\n",
      "(545, 12288)\n",
      "(544, 12288)\n"
     ]
    }
   ],
   "source": [
    "train_img = train_images.reshape(train_images.shape[0], -1)\n",
    "test_img = test_images.reshape(test_images.shape[0], -1)\n",
    "val_img = val_images.reshape(val_images.shape[0], -1)\n",
    "\n",
    "#double check shape to make sure all the images are included\n",
    "print(train_img.shape)\n",
    "print(test_img.shape)\n",
    "print(val_img.shape)"
   ]
  },
  {
   "cell_type": "code",
   "execution_count": 24,
   "metadata": {},
   "outputs": [],
   "source": [
    "#create labels for all three splits\n",
    "train_y = np.reshape(train_labels[:,0], (3099,1))\n",
    "test_y = np.reshape(test_labels[:,0], (545,1))\n",
    "val_y = np.reshape(val_labels[:,0], (544,1))"
   ]
  },
  {
   "cell_type": "markdown",
   "metadata": {},
   "source": [
    "### Baseline Model - No Tuning"
   ]
  },
  {
   "cell_type": "code",
   "execution_count": 27,
   "metadata": {},
   "outputs": [],
   "source": [
    "#create a dense layer model as a baseline with 2 hidden layers\n",
    "np.random.seed(10)\n",
    "model = models.Sequential()\n",
    "model.add(layers.Dense(20, activation='relu', input_shape=(12288,)))\n",
    "model.add(layers.Dense(7, activation='relu'))\n",
    "model.add(layers.Dense(5, activation='relu'))\n",
    "model.add(layers.Dense(1, activation='sigmoid'))"
   ]
  },
  {
   "cell_type": "code",
   "execution_count": 29,
   "metadata": {},
   "outputs": [
    {
     "name": "stdout",
     "output_type": "stream",
     "text": [
      "Epoch 1/50\n",
      "69/69 [==============================] - 1s 9ms/step - loss: 0.2416 - accuracy: 0.8922 - val_loss: 0.4524 - val_accuracy: 0.8033\n",
      "Epoch 2/50\n",
      "69/69 [==============================] - 0s 6ms/step - loss: 0.2340 - accuracy: 0.9000 - val_loss: 0.3922 - val_accuracy: 0.8217\n",
      "Epoch 3/50\n",
      "69/69 [==============================] - 0s 6ms/step - loss: 0.2241 - accuracy: 0.9016 - val_loss: 0.3832 - val_accuracy: 0.8364\n",
      "Epoch 4/50\n",
      "69/69 [==============================] - 0s 7ms/step - loss: 0.2283 - accuracy: 0.8993 - val_loss: 0.5503 - val_accuracy: 0.7463\n",
      "Epoch 5/50\n",
      "69/69 [==============================] - 0s 7ms/step - loss: 0.2351 - accuracy: 0.8958 - val_loss: 0.3843 - val_accuracy: 0.8364\n",
      "Epoch 6/50\n",
      "69/69 [==============================] - 0s 6ms/step - loss: 0.2242 - accuracy: 0.9006 - val_loss: 0.4204 - val_accuracy: 0.8217\n",
      "Epoch 7/50\n",
      "69/69 [==============================] - 0s 7ms/step - loss: 0.2585 - accuracy: 0.8816 - val_loss: 0.4549 - val_accuracy: 0.8254\n",
      "Epoch 8/50\n",
      "69/69 [==============================] - 0s 6ms/step - loss: 0.2112 - accuracy: 0.9093 - val_loss: 0.4203 - val_accuracy: 0.8272\n",
      "Epoch 9/50\n",
      "69/69 [==============================] - 0s 7ms/step - loss: 0.2200 - accuracy: 0.9042 - val_loss: 0.5120 - val_accuracy: 0.8015\n",
      "Epoch 10/50\n",
      "69/69 [==============================] - 0s 7ms/step - loss: 0.2079 - accuracy: 0.9100 - val_loss: 0.4432 - val_accuracy: 0.8143\n",
      "Epoch 11/50\n",
      "69/69 [==============================] - 0s 6ms/step - loss: 0.2420 - accuracy: 0.8887 - val_loss: 0.4292 - val_accuracy: 0.8070\n",
      "Epoch 12/50\n",
      "69/69 [==============================] - 0s 6ms/step - loss: 0.2249 - accuracy: 0.9035 - val_loss: 0.4344 - val_accuracy: 0.8290\n",
      "Epoch 13/50\n",
      "69/69 [==============================] - 0s 7ms/step - loss: 0.2232 - accuracy: 0.9003 - val_loss: 0.4090 - val_accuracy: 0.8235\n",
      "Epoch 14/50\n",
      "69/69 [==============================] - 0s 6ms/step - loss: 0.2200 - accuracy: 0.9064 - val_loss: 0.7091 - val_accuracy: 0.7500\n",
      "Epoch 15/50\n",
      "69/69 [==============================] - 0s 7ms/step - loss: 0.2132 - accuracy: 0.9019 - val_loss: 0.4450 - val_accuracy: 0.8364\n",
      "Epoch 16/50\n",
      "69/69 [==============================] - 0s 7ms/step - loss: 0.2065 - accuracy: 0.9135 - val_loss: 0.3919 - val_accuracy: 0.8401\n",
      "Epoch 17/50\n",
      "69/69 [==============================] - 1s 7ms/step - loss: 0.2177 - accuracy: 0.9019 - val_loss: 0.4677 - val_accuracy: 0.8107\n",
      "Epoch 18/50\n",
      "69/69 [==============================] - 0s 6ms/step - loss: 0.1937 - accuracy: 0.9197 - val_loss: 0.4126 - val_accuracy: 0.8346\n",
      "Epoch 19/50\n",
      "69/69 [==============================] - 0s 6ms/step - loss: 0.1989 - accuracy: 0.9145 - val_loss: 0.3738 - val_accuracy: 0.8382\n",
      "Epoch 20/50\n",
      "69/69 [==============================] - 0s 6ms/step - loss: 0.2273 - accuracy: 0.9035 - val_loss: 0.4420 - val_accuracy: 0.8180\n",
      "Epoch 21/50\n",
      "69/69 [==============================] - 0s 7ms/step - loss: 0.2167 - accuracy: 0.9025 - val_loss: 0.3736 - val_accuracy: 0.8327\n",
      "Epoch 22/50\n",
      "69/69 [==============================] - 1s 9ms/step - loss: 0.1942 - accuracy: 0.9171 - val_loss: 0.3839 - val_accuracy: 0.8272\n",
      "Epoch 23/50\n",
      "69/69 [==============================] - 1s 8ms/step - loss: 0.2160 - accuracy: 0.9071 - val_loss: 0.5259 - val_accuracy: 0.7923\n",
      "Epoch 24/50\n",
      "69/69 [==============================] - 0s 6ms/step - loss: 0.2074 - accuracy: 0.9100 - val_loss: 0.4022 - val_accuracy: 0.8180\n",
      "Epoch 25/50\n",
      "69/69 [==============================] - 0s 7ms/step - loss: 0.2335 - accuracy: 0.8913 - val_loss: 0.4535 - val_accuracy: 0.8364\n",
      "Epoch 26/50\n",
      "69/69 [==============================] - 0s 7ms/step - loss: 0.2004 - accuracy: 0.9171 - val_loss: 0.4786 - val_accuracy: 0.8327\n",
      "Epoch 27/50\n",
      "69/69 [==============================] - 1s 8ms/step - loss: 0.1752 - accuracy: 0.9287 - val_loss: 0.4299 - val_accuracy: 0.8290\n",
      "Epoch 28/50\n",
      "69/69 [==============================] - 1s 9ms/step - loss: 0.2461 - accuracy: 0.9055 - val_loss: 0.4161 - val_accuracy: 0.8327\n",
      "Epoch 29/50\n",
      "69/69 [==============================] - 1s 8ms/step - loss: 0.1940 - accuracy: 0.9167 - val_loss: 0.4461 - val_accuracy: 0.7996\n",
      "Epoch 30/50\n",
      "69/69 [==============================] - 0s 7ms/step - loss: 0.2178 - accuracy: 0.9038 - val_loss: 0.4161 - val_accuracy: 0.8364\n",
      "Epoch 31/50\n",
      "69/69 [==============================] - 1s 8ms/step - loss: 0.1805 - accuracy: 0.9251 - val_loss: 0.4414 - val_accuracy: 0.8199\n",
      "Epoch 32/50\n",
      "69/69 [==============================] - 0s 6ms/step - loss: 0.1792 - accuracy: 0.9258 - val_loss: 0.4207 - val_accuracy: 0.8327\n",
      "Epoch 33/50\n",
      "69/69 [==============================] - 0s 6ms/step - loss: 0.2248 - accuracy: 0.9048 - val_loss: 0.4490 - val_accuracy: 0.8346\n",
      "Epoch 34/50\n",
      "69/69 [==============================] - 0s 7ms/step - loss: 0.1872 - accuracy: 0.9229 - val_loss: 0.4213 - val_accuracy: 0.8180\n",
      "Epoch 35/50\n",
      "69/69 [==============================] - 1s 9ms/step - loss: 0.1872 - accuracy: 0.9161 - val_loss: 0.4943 - val_accuracy: 0.8107\n",
      "Epoch 36/50\n",
      "69/69 [==============================] - 1s 8ms/step - loss: 0.1961 - accuracy: 0.9132 - val_loss: 0.4519 - val_accuracy: 0.8235\n",
      "Epoch 37/50\n",
      "69/69 [==============================] - 0s 6ms/step - loss: 0.1946 - accuracy: 0.9216 - val_loss: 0.4674 - val_accuracy: 0.8217\n",
      "Epoch 38/50\n",
      "69/69 [==============================] - 0s 6ms/step - loss: 0.1819 - accuracy: 0.9274 - val_loss: 0.4412 - val_accuracy: 0.8235\n",
      "Epoch 39/50\n",
      "69/69 [==============================] - 0s 6ms/step - loss: 0.1600 - accuracy: 0.9329 - val_loss: 0.4551 - val_accuracy: 0.8346\n",
      "Epoch 40/50\n",
      "69/69 [==============================] - ETA: 0s - loss: 0.1806 - accuracy: 0.92 - 0s 6ms/step - loss: 0.1903 - accuracy: 0.9216 - val_loss: 0.6926 - val_accuracy: 0.6121\n",
      "Epoch 41/50\n",
      "69/69 [==============================] - 0s 6ms/step - loss: 0.1762 - accuracy: 0.9235 - val_loss: 0.5571 - val_accuracy: 0.7941\n",
      "Epoch 42/50\n",
      "69/69 [==============================] - 0s 6ms/step - loss: 0.1704 - accuracy: 0.9242 - val_loss: 0.4392 - val_accuracy: 0.8327\n",
      "Epoch 43/50\n",
      "69/69 [==============================] - 0s 6ms/step - loss: 0.1621 - accuracy: 0.9290 - val_loss: 0.4891 - val_accuracy: 0.8290\n",
      "Epoch 44/50\n",
      "69/69 [==============================] - 0s 6ms/step - loss: 0.2493 - accuracy: 0.8967 - val_loss: 0.4020 - val_accuracy: 0.8290\n",
      "Epoch 45/50\n",
      "69/69 [==============================] - 0s 6ms/step - loss: 0.1954 - accuracy: 0.9193 - val_loss: 0.3965 - val_accuracy: 0.8272\n",
      "Epoch 46/50\n",
      "69/69 [==============================] - 0s 7ms/step - loss: 0.1777 - accuracy: 0.9258 - val_loss: 0.4818 - val_accuracy: 0.8254\n",
      "Epoch 47/50\n",
      "69/69 [==============================] - 1s 11ms/step - loss: 0.2112 - accuracy: 0.9132 - val_loss: 0.4112 - val_accuracy: 0.8254\n",
      "Epoch 48/50\n",
      "69/69 [==============================] - 1s 8ms/step - loss: 0.1806 - accuracy: 0.9235 - val_loss: 0.6452 - val_accuracy: 0.8015\n",
      "Epoch 49/50\n",
      "69/69 [==============================] - 1s 10ms/step - loss: 0.1628 - accuracy: 0.9345 - val_loss: 0.4423 - val_accuracy: 0.8272\n",
      "Epoch 50/50\n",
      "69/69 [==============================] - 1s 8ms/step - loss: 0.2111 - accuracy: 0.9151 - val_loss: 0.4265 - val_accuracy: 0.8327\n"
     ]
    }
   ],
   "source": [
    "#choose metrics and fit the model on train data\n",
    "model.compile(optimizer='sgd', loss='binary_crossentropy', metrics=['accuracy'])\n",
    "\n",
    "history = model.fit(train_img,\n",
    "                    train_y,\n",
    "                    epochs=50,\n",
    "                    batch_size=45,\n",
    "                    validation_data=(val_img, val_y))"
   ]
  },
  {
   "cell_type": "code",
   "execution_count": 31,
   "metadata": {},
   "outputs": [
    {
     "data": {
      "image/png": "[encoded data removed]",
      "text/plain": [
       "<Figure size 432x288 with 1 Axes>"
      ]
     },
     "metadata": {
      "needs_background": "light"
     },
     "output_type": "display_data"
    },
    {
     "data": {
      "image/png": "[encoded data removed]",
      "text/plain": [
       "<Figure size 432x288 with 1 Axes>"
      ]
     },
     "metadata": {
      "needs_background": "light"
     },
     "output_type": "display_data"
    }
   ],
   "source": [
    "def viz_train_res(results):\n",
    "    history = results.history\n",
    "    plt.figure()\n",
    "    plt.plot(history['val_loss'])\n",
    "    plt.plot(history['loss'])\n",
    "    plt.legend(['val_loss', 'loss'])\n",
    "    plt.title('Loss')\n",
    "    plt.xlabel('Epochs')\n",
    "    plt.ylabel('Loss')\n",
    "    plt.show()\n",
    "    \n",
    "    plt.figure()\n",
    "    plt.plot(history['val_accuracy'])\n",
    "    plt.plot(history['accuracy'])\n",
    "    plt.legend(['val_accuracy', 'accuracy'])\n",
    "    plt.title('Accuracy')\n",
    "    plt.xlabel('Epochs')\n",
    "    plt.ylabel('Accuracy')\n",
    "    plt.show()\n",
    "    \n",
    "viz_train_res(history)"
   ]
  },
  {
   "cell_type": "code",
   "execution_count": null,
   "metadata": {},
   "outputs": [],
   "source": []
  }
 ],
 "metadata": {
  "kernelspec": {
   "display_name": "Python 3",
   "language": "python",
   "name": "python3"
  },
  "language_info": {
   "codemirror_mode": {
    "name": "ipython",
    "version": 3
   },
   "file_extension": ".py",
   "mimetype": "text/x-python",
   "name": "python",
   "nbconvert_exporter": "python",
   "pygments_lexer": "ipython3",
   "version": "3.8.3"
  }
 },
 "nbformat": 4,
 "nbformat_minor": 4
}
